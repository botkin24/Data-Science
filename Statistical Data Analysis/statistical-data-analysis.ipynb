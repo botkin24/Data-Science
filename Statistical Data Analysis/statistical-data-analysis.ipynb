{
 "cells": [
  {
   "cell_type": "markdown",
   "id": "255566f6",
   "metadata": {},
   "source": [
    "# Проект: Статистический анализ данных"
   ]
  },
  {
   "cell_type": "markdown",
   "id": "7aac1e16",
   "metadata": {},
   "source": [
    "**Описание исследования**"
   ]
  },
  {
   "cell_type": "markdown",
   "id": "d1b7e469",
   "metadata": {},
   "source": [
    "Вы аналитик популярного сервиса аренды самокатов GoFast. Вам передали данные о некоторых пользователях из нескольких городов, а также об их поездках.\n",
    "\n",
    "Чтобы совершать поездки по городу, пользователи сервиса GoFast пользуются мобильным приложением. Сервисом можно пользоваться:\n",
    "\n",
    "1. Без подписки\n",
    "- абонентская плата отсутствует;\n",
    "- стоимость одной минуты поездки — 8 рублей;\n",
    "- стоимость старта (начала поездки) — 50 рублей.\n",
    "\n",
    "2. С подпиской Ultra\n",
    "- абонентская плата — 199 рублей в месяц;\n",
    "- стоимость одной минуты поездки — 6 рублей;\n",
    "- тоимость старта — бесплатно."
   ]
  },
  {
   "cell_type": "markdown",
   "id": "56c7fcfe",
   "metadata": {},
   "source": [
    "**Цель исследования**"
   ]
  },
  {
   "cell_type": "markdown",
   "id": "95862113",
   "metadata": {},
   "source": [
    "Проанализировать данные и проверьте некоторые гипотезы, которые могут помочь бизнесу вырасти."
   ]
  },
  {
   "cell_type": "markdown",
   "id": "d7320211",
   "metadata": {},
   "source": [
    "**Ход исследования**"
   ]
  },
  {
   "cell_type": "markdown",
   "id": "b6c5a462",
   "metadata": {},
   "source": [
    "Мое исследование пройдет в шесть этапов:\n",
    "\n",
    "- Загрузка данных;\n",
    "- Предобработка данных;\n",
    "- Исследовательский анализ данных;\n",
    "- Объединение данных;\n",
    "- Подсчёт выручки;\n",
    "- Проверка гипотез."
   ]
  },
  {
   "cell_type": "code",
   "execution_count": 1,
   "id": "0f24ae53",
   "metadata": {},
   "outputs": [],
   "source": [
    "import pandas as pd\n",
    "import numpy as np\n",
    "import matplotlib.pyplot as plt\n",
    "from scipy import stats as st"
   ]
  },
  {
   "cell_type": "markdown",
   "id": "c42cbe00",
   "metadata": {},
   "source": [
    "#### Шаг 1. Загрузка данных"
   ]
  },
  {
   "cell_type": "markdown",
   "id": "c8451e38",
   "metadata": {},
   "source": [
    "**1.1** *Считаем CSV-файлы с данными с помощью библиотеки pandas и сохраните их в датафреймы.*"
   ]
  },
  {
   "cell_type": "code",
   "execution_count": 2,
   "id": "eff9f206",
   "metadata": {},
   "outputs": [],
   "source": [
    "users_df = pd.read_csv('/datasets/users_go.csv')\n",
    "rides_df = pd.read_csv('/datasets/rides_go.csv')\n",
    "subscriptions_df = pd.read_csv('/datasets/subscriptions_go.csv')"
   ]
  },
  {
   "cell_type": "markdown",
   "id": "8b885344",
   "metadata": {},
   "source": [
    "**1.2** *Выведем первые строки каждого набора данных.*"
   ]
  },
  {
   "cell_type": "code",
   "execution_count": 3,
   "id": "79eca3aa",
   "metadata": {},
   "outputs": [
    {
     "data": {
      "text/html": [
       "<div>\n",
       "<style scoped>\n",
       "    .dataframe tbody tr th:only-of-type {\n",
       "        vertical-align: middle;\n",
       "    }\n",
       "\n",
       "    .dataframe tbody tr th {\n",
       "        vertical-align: top;\n",
       "    }\n",
       "\n",
       "    .dataframe thead th {\n",
       "        text-align: right;\n",
       "    }\n",
       "</style>\n",
       "<table border=\"1\" class=\"dataframe\">\n",
       "  <thead>\n",
       "    <tr style=\"text-align: right;\">\n",
       "      <th></th>\n",
       "      <th>user_id</th>\n",
       "      <th>name</th>\n",
       "      <th>age</th>\n",
       "      <th>city</th>\n",
       "      <th>subscription_type</th>\n",
       "    </tr>\n",
       "  </thead>\n",
       "  <tbody>\n",
       "    <tr>\n",
       "      <th>0</th>\n",
       "      <td>1</td>\n",
       "      <td>Кира</td>\n",
       "      <td>22</td>\n",
       "      <td>Тюмень</td>\n",
       "      <td>ultra</td>\n",
       "    </tr>\n",
       "    <tr>\n",
       "      <th>1</th>\n",
       "      <td>2</td>\n",
       "      <td>Станислав</td>\n",
       "      <td>31</td>\n",
       "      <td>Омск</td>\n",
       "      <td>ultra</td>\n",
       "    </tr>\n",
       "    <tr>\n",
       "      <th>2</th>\n",
       "      <td>3</td>\n",
       "      <td>Алексей</td>\n",
       "      <td>20</td>\n",
       "      <td>Москва</td>\n",
       "      <td>ultra</td>\n",
       "    </tr>\n",
       "    <tr>\n",
       "      <th>3</th>\n",
       "      <td>4</td>\n",
       "      <td>Константин</td>\n",
       "      <td>26</td>\n",
       "      <td>Ростов-на-Дону</td>\n",
       "      <td>ultra</td>\n",
       "    </tr>\n",
       "    <tr>\n",
       "      <th>4</th>\n",
       "      <td>5</td>\n",
       "      <td>Адель</td>\n",
       "      <td>28</td>\n",
       "      <td>Омск</td>\n",
       "      <td>ultra</td>\n",
       "    </tr>\n",
       "  </tbody>\n",
       "</table>\n",
       "</div>"
      ],
      "text/plain": [
       "   user_id        name  age            city subscription_type\n",
       "0        1        Кира   22          Тюмень             ultra\n",
       "1        2   Станислав   31            Омск             ultra\n",
       "2        3     Алексей   20          Москва             ultra\n",
       "3        4  Константин   26  Ростов-на-Дону             ultra\n",
       "4        5       Адель   28            Омск             ultra"
      ]
     },
     "execution_count": 3,
     "metadata": {},
     "output_type": "execute_result"
    }
   ],
   "source": [
    "users_df.head()"
   ]
  },
  {
   "cell_type": "code",
   "execution_count": 4,
   "id": "4c4c4fe1",
   "metadata": {},
   "outputs": [
    {
     "data": {
      "text/html": [
       "<div>\n",
       "<style scoped>\n",
       "    .dataframe tbody tr th:only-of-type {\n",
       "        vertical-align: middle;\n",
       "    }\n",
       "\n",
       "    .dataframe tbody tr th {\n",
       "        vertical-align: top;\n",
       "    }\n",
       "\n",
       "    .dataframe thead th {\n",
       "        text-align: right;\n",
       "    }\n",
       "</style>\n",
       "<table border=\"1\" class=\"dataframe\">\n",
       "  <thead>\n",
       "    <tr style=\"text-align: right;\">\n",
       "      <th></th>\n",
       "      <th>user_id</th>\n",
       "      <th>distance</th>\n",
       "      <th>duration</th>\n",
       "      <th>date</th>\n",
       "    </tr>\n",
       "  </thead>\n",
       "  <tbody>\n",
       "    <tr>\n",
       "      <th>0</th>\n",
       "      <td>1</td>\n",
       "      <td>4409.919140</td>\n",
       "      <td>25.599769</td>\n",
       "      <td>2021-01-01</td>\n",
       "    </tr>\n",
       "    <tr>\n",
       "      <th>1</th>\n",
       "      <td>1</td>\n",
       "      <td>2617.592153</td>\n",
       "      <td>15.816871</td>\n",
       "      <td>2021-01-18</td>\n",
       "    </tr>\n",
       "    <tr>\n",
       "      <th>2</th>\n",
       "      <td>1</td>\n",
       "      <td>754.159807</td>\n",
       "      <td>6.232113</td>\n",
       "      <td>2021-04-20</td>\n",
       "    </tr>\n",
       "    <tr>\n",
       "      <th>3</th>\n",
       "      <td>1</td>\n",
       "      <td>2694.783254</td>\n",
       "      <td>18.511000</td>\n",
       "      <td>2021-08-11</td>\n",
       "    </tr>\n",
       "    <tr>\n",
       "      <th>4</th>\n",
       "      <td>1</td>\n",
       "      <td>4028.687306</td>\n",
       "      <td>26.265803</td>\n",
       "      <td>2021-08-28</td>\n",
       "    </tr>\n",
       "  </tbody>\n",
       "</table>\n",
       "</div>"
      ],
      "text/plain": [
       "   user_id     distance   duration        date\n",
       "0        1  4409.919140  25.599769  2021-01-01\n",
       "1        1  2617.592153  15.816871  2021-01-18\n",
       "2        1   754.159807   6.232113  2021-04-20\n",
       "3        1  2694.783254  18.511000  2021-08-11\n",
       "4        1  4028.687306  26.265803  2021-08-28"
      ]
     },
     "execution_count": 4,
     "metadata": {},
     "output_type": "execute_result"
    }
   ],
   "source": [
    "rides_df.head()"
   ]
  },
  {
   "cell_type": "code",
   "execution_count": 5,
   "id": "e8a28934",
   "metadata": {},
   "outputs": [
    {
     "data": {
      "text/html": [
       "<div>\n",
       "<style scoped>\n",
       "    .dataframe tbody tr th:only-of-type {\n",
       "        vertical-align: middle;\n",
       "    }\n",
       "\n",
       "    .dataframe tbody tr th {\n",
       "        vertical-align: top;\n",
       "    }\n",
       "\n",
       "    .dataframe thead th {\n",
       "        text-align: right;\n",
       "    }\n",
       "</style>\n",
       "<table border=\"1\" class=\"dataframe\">\n",
       "  <thead>\n",
       "    <tr style=\"text-align: right;\">\n",
       "      <th></th>\n",
       "      <th>subscription_type</th>\n",
       "      <th>minute_price</th>\n",
       "      <th>start_ride_price</th>\n",
       "      <th>subscription_fee</th>\n",
       "    </tr>\n",
       "  </thead>\n",
       "  <tbody>\n",
       "    <tr>\n",
       "      <th>0</th>\n",
       "      <td>free</td>\n",
       "      <td>8</td>\n",
       "      <td>50</td>\n",
       "      <td>0</td>\n",
       "    </tr>\n",
       "    <tr>\n",
       "      <th>1</th>\n",
       "      <td>ultra</td>\n",
       "      <td>6</td>\n",
       "      <td>0</td>\n",
       "      <td>199</td>\n",
       "    </tr>\n",
       "  </tbody>\n",
       "</table>\n",
       "</div>"
      ],
      "text/plain": [
       "  subscription_type  minute_price  start_ride_price  subscription_fee\n",
       "0              free             8                50                 0\n",
       "1             ultra             6                 0               199"
      ]
     },
     "execution_count": 5,
     "metadata": {},
     "output_type": "execute_result"
    }
   ],
   "source": [
    "subscriptions_df.head()"
   ]
  },
  {
   "cell_type": "markdown",
   "id": "e3f11537",
   "metadata": {},
   "source": [
    "**1.3** *Изучим общую информацию о каждом датафрейме.*"
   ]
  },
  {
   "cell_type": "markdown",
   "id": "8f20c3fb",
   "metadata": {},
   "source": [
    "Датафрейм 'users_df'"
   ]
  },
  {
   "cell_type": "code",
   "execution_count": 6,
   "id": "0b42d146",
   "metadata": {},
   "outputs": [
    {
     "name": "stdout",
     "output_type": "stream",
     "text": [
      "<class 'pandas.core.frame.DataFrame'>\n",
      "RangeIndex: 1565 entries, 0 to 1564\n",
      "Data columns (total 5 columns):\n",
      " #   Column             Non-Null Count  Dtype \n",
      "---  ------             --------------  ----- \n",
      " 0   user_id            1565 non-null   int64 \n",
      " 1   name               1565 non-null   object\n",
      " 2   age                1565 non-null   int64 \n",
      " 3   city               1565 non-null   object\n",
      " 4   subscription_type  1565 non-null   object\n",
      "dtypes: int64(2), object(3)\n",
      "memory usage: 61.3+ KB\n"
     ]
    }
   ],
   "source": [
    "users_df.info()"
   ]
  },
  {
   "cell_type": "code",
   "execution_count": 7,
   "id": "bc63e59b",
   "metadata": {},
   "outputs": [
    {
     "data": {
      "text/plain": [
       "user_id              0\n",
       "name                 0\n",
       "age                  0\n",
       "city                 0\n",
       "subscription_type    0\n",
       "dtype: int64"
      ]
     },
     "execution_count": 7,
     "metadata": {},
     "output_type": "execute_result"
    }
   ],
   "source": [
    "users_df.isna().sum()"
   ]
  },
  {
   "cell_type": "code",
   "execution_count": 8,
   "id": "ea1f857f",
   "metadata": {},
   "outputs": [
    {
     "data": {
      "text/plain": [
       "31"
      ]
     },
     "execution_count": 8,
     "metadata": {},
     "output_type": "execute_result"
    }
   ],
   "source": [
    "users_df.duplicated().sum()"
   ]
  },
  {
   "cell_type": "markdown",
   "id": "e8b3895e",
   "metadata": {},
   "source": [
    "Датафрейм 'rides_df'"
   ]
  },
  {
   "cell_type": "code",
   "execution_count": 9,
   "id": "9da3bdef",
   "metadata": {},
   "outputs": [
    {
     "name": "stdout",
     "output_type": "stream",
     "text": [
      "<class 'pandas.core.frame.DataFrame'>\n",
      "RangeIndex: 18068 entries, 0 to 18067\n",
      "Data columns (total 4 columns):\n",
      " #   Column    Non-Null Count  Dtype  \n",
      "---  ------    --------------  -----  \n",
      " 0   user_id   18068 non-null  int64  \n",
      " 1   distance  18068 non-null  float64\n",
      " 2   duration  18068 non-null  float64\n",
      " 3   date      18068 non-null  object \n",
      "dtypes: float64(2), int64(1), object(1)\n",
      "memory usage: 564.8+ KB\n"
     ]
    }
   ],
   "source": [
    "rides_df.info()"
   ]
  },
  {
   "cell_type": "code",
   "execution_count": 10,
   "id": "2b3710cd",
   "metadata": {},
   "outputs": [
    {
     "data": {
      "text/plain": [
       "user_id     0\n",
       "distance    0\n",
       "duration    0\n",
       "date        0\n",
       "dtype: int64"
      ]
     },
     "execution_count": 10,
     "metadata": {},
     "output_type": "execute_result"
    }
   ],
   "source": [
    "rides_df.isna().sum()"
   ]
  },
  {
   "cell_type": "code",
   "execution_count": 11,
   "id": "6bd60b24",
   "metadata": {},
   "outputs": [
    {
     "data": {
      "text/plain": [
       "0"
      ]
     },
     "execution_count": 11,
     "metadata": {},
     "output_type": "execute_result"
    }
   ],
   "source": [
    "rides_df.duplicated().sum()"
   ]
  },
  {
   "cell_type": "markdown",
   "id": "565540d6",
   "metadata": {},
   "source": [
    "Датафрейм 'subscriptions_df'"
   ]
  },
  {
   "cell_type": "code",
   "execution_count": 12,
   "id": "8feea643",
   "metadata": {},
   "outputs": [
    {
     "name": "stdout",
     "output_type": "stream",
     "text": [
      "<class 'pandas.core.frame.DataFrame'>\n",
      "RangeIndex: 2 entries, 0 to 1\n",
      "Data columns (total 4 columns):\n",
      " #   Column             Non-Null Count  Dtype \n",
      "---  ------             --------------  ----- \n",
      " 0   subscription_type  2 non-null      object\n",
      " 1   minute_price       2 non-null      int64 \n",
      " 2   start_ride_price   2 non-null      int64 \n",
      " 3   subscription_fee   2 non-null      int64 \n",
      "dtypes: int64(3), object(1)\n",
      "memory usage: 192.0+ bytes\n"
     ]
    }
   ],
   "source": [
    "subscriptions_df.info()"
   ]
  },
  {
   "cell_type": "code",
   "execution_count": 13,
   "id": "8bf3e0e4",
   "metadata": {},
   "outputs": [
    {
     "data": {
      "text/plain": [
       "subscription_type    0\n",
       "minute_price         0\n",
       "start_ride_price     0\n",
       "subscription_fee     0\n",
       "dtype: int64"
      ]
     },
     "execution_count": 13,
     "metadata": {},
     "output_type": "execute_result"
    }
   ],
   "source": [
    "subscriptions_df.isna().sum()"
   ]
  },
  {
   "cell_type": "code",
   "execution_count": 14,
   "id": "7f7e7597",
   "metadata": {},
   "outputs": [
    {
     "data": {
      "text/plain": [
       "0"
      ]
     },
     "execution_count": 14,
     "metadata": {},
     "output_type": "execute_result"
    }
   ],
   "source": [
    "subscriptions_df.duplicated().sum()"
   ]
  },
  {
   "cell_type": "markdown",
   "id": "3869894d",
   "metadata": {},
   "source": [
    "**Вывод:**"
   ]
  },
  {
   "cell_type": "markdown",
   "id": "ff811bbe",
   "metadata": {},
   "source": [
    "- Датафрейм 'users_df': 1565 записи, пропусков нет, 31 явный дуликат;\n",
    "- Датафрейм 'rides_df': 18068 записи, пропусков нет, явных дубликатов нет, некорректный тип данных для столбца 'date';\n",
    "- Датафрейм 'subscriptions_df': 2 записи, пропусков нет, явных дубликатов нет;"
   ]
  },
  {
   "cell_type": "markdown",
   "id": "d3dc756f",
   "metadata": {},
   "source": [
    "---"
   ]
  },
  {
   "cell_type": "markdown",
   "id": "e95ebca7",
   "metadata": {},
   "source": [
    "#### Шаг 2. Предобработка данных"
   ]
  },
  {
   "cell_type": "markdown",
   "id": "b811bcd0",
   "metadata": {},
   "source": [
    "**2.1** *Предоработка users_df*"
   ]
  },
  {
   "cell_type": "markdown",
   "id": "9fb8cd93",
   "metadata": {},
   "source": [
    "Удалим дубликаты"
   ]
  },
  {
   "cell_type": "code",
   "execution_count": 15,
   "id": "bad7380e",
   "metadata": {},
   "outputs": [],
   "source": [
    "users_df = users_df.drop_duplicates().reset_index(drop=True)"
   ]
  },
  {
   "cell_type": "code",
   "execution_count": 16,
   "id": "9ed58966",
   "metadata": {},
   "outputs": [
    {
     "name": "stdout",
     "output_type": "stream",
     "text": [
      "Количество дубликатов в users_df: 0\n"
     ]
    }
   ],
   "source": [
    "print(f'Количество дубликатов в users_df: {users_df.duplicated().sum()}')"
   ]
  },
  {
   "cell_type": "markdown",
   "id": "234dab3b",
   "metadata": {},
   "source": [
    "**2.2** *Предоработка rides_df*"
   ]
  },
  {
   "cell_type": "code",
   "execution_count": 17,
   "id": "87907ea4",
   "metadata": {},
   "outputs": [
    {
     "data": {
      "text/html": [
       "<div>\n",
       "<style scoped>\n",
       "    .dataframe tbody tr th:only-of-type {\n",
       "        vertical-align: middle;\n",
       "    }\n",
       "\n",
       "    .dataframe tbody tr th {\n",
       "        vertical-align: top;\n",
       "    }\n",
       "\n",
       "    .dataframe thead th {\n",
       "        text-align: right;\n",
       "    }\n",
       "</style>\n",
       "<table border=\"1\" class=\"dataframe\">\n",
       "  <thead>\n",
       "    <tr style=\"text-align: right;\">\n",
       "      <th></th>\n",
       "      <th>user_id</th>\n",
       "      <th>distance</th>\n",
       "      <th>duration</th>\n",
       "      <th>date</th>\n",
       "    </tr>\n",
       "  </thead>\n",
       "  <tbody>\n",
       "    <tr>\n",
       "      <th>0</th>\n",
       "      <td>1</td>\n",
       "      <td>4409.919140</td>\n",
       "      <td>25.599769</td>\n",
       "      <td>2021-01-01</td>\n",
       "    </tr>\n",
       "    <tr>\n",
       "      <th>1</th>\n",
       "      <td>1</td>\n",
       "      <td>2617.592153</td>\n",
       "      <td>15.816871</td>\n",
       "      <td>2021-01-18</td>\n",
       "    </tr>\n",
       "    <tr>\n",
       "      <th>2</th>\n",
       "      <td>1</td>\n",
       "      <td>754.159807</td>\n",
       "      <td>6.232113</td>\n",
       "      <td>2021-04-20</td>\n",
       "    </tr>\n",
       "    <tr>\n",
       "      <th>3</th>\n",
       "      <td>1</td>\n",
       "      <td>2694.783254</td>\n",
       "      <td>18.511000</td>\n",
       "      <td>2021-08-11</td>\n",
       "    </tr>\n",
       "    <tr>\n",
       "      <th>4</th>\n",
       "      <td>1</td>\n",
       "      <td>4028.687306</td>\n",
       "      <td>26.265803</td>\n",
       "      <td>2021-08-28</td>\n",
       "    </tr>\n",
       "  </tbody>\n",
       "</table>\n",
       "</div>"
      ],
      "text/plain": [
       "   user_id     distance   duration        date\n",
       "0        1  4409.919140  25.599769  2021-01-01\n",
       "1        1  2617.592153  15.816871  2021-01-18\n",
       "2        1   754.159807   6.232113  2021-04-20\n",
       "3        1  2694.783254  18.511000  2021-08-11\n",
       "4        1  4028.687306  26.265803  2021-08-28"
      ]
     },
     "execution_count": 17,
     "metadata": {},
     "output_type": "execute_result"
    }
   ],
   "source": [
    "rides_df.head()"
   ]
  },
  {
   "cell_type": "markdown",
   "id": "39f30a0f",
   "metadata": {},
   "source": [
    "Округлим значения в столбце 'distance' до сотых"
   ]
  },
  {
   "cell_type": "code",
   "execution_count": 18,
   "id": "ff280233",
   "metadata": {},
   "outputs": [],
   "source": [
    "rides_df['distance'] = rides_df['distance'].round(2)"
   ]
  },
  {
   "cell_type": "markdown",
   "id": "7b9da89e",
   "metadata": {},
   "source": [
    "Округлим значения в столбце 'duration' до целого с помощью метода \"потолка\" и приведем к соответствующему типу данных"
   ]
  },
  {
   "cell_type": "code",
   "execution_count": 19,
   "id": "cda9575d",
   "metadata": {},
   "outputs": [],
   "source": [
    "rides_df['duration'] = np.ceil(rides_df['duration']).astype('int')"
   ]
  },
  {
   "cell_type": "markdown",
   "id": "c2360041",
   "metadata": {},
   "source": [
    "Приведем значения в столбце 'date' к типу даты pandas"
   ]
  },
  {
   "cell_type": "code",
   "execution_count": 20,
   "id": "e1440a05",
   "metadata": {},
   "outputs": [],
   "source": [
    "rides_df['date'] = pd.to_datetime(rides_df['date'])"
   ]
  },
  {
   "cell_type": "markdown",
   "id": "1bc14148",
   "metadata": {},
   "source": [
    "Создадим новый столбец с номером месяца на основе столбца 'date'"
   ]
  },
  {
   "cell_type": "code",
   "execution_count": 21,
   "id": "af23eb1e",
   "metadata": {},
   "outputs": [],
   "source": [
    "rides_df['month'] = rides_df['date'].dt.month"
   ]
  },
  {
   "cell_type": "markdown",
   "id": "1df4822f",
   "metadata": {},
   "source": [
    "Проверка:"
   ]
  },
  {
   "cell_type": "code",
   "execution_count": 22,
   "id": "fff97bb4",
   "metadata": {},
   "outputs": [
    {
     "data": {
      "text/html": [
       "<div>\n",
       "<style scoped>\n",
       "    .dataframe tbody tr th:only-of-type {\n",
       "        vertical-align: middle;\n",
       "    }\n",
       "\n",
       "    .dataframe tbody tr th {\n",
       "        vertical-align: top;\n",
       "    }\n",
       "\n",
       "    .dataframe thead th {\n",
       "        text-align: right;\n",
       "    }\n",
       "</style>\n",
       "<table border=\"1\" class=\"dataframe\">\n",
       "  <thead>\n",
       "    <tr style=\"text-align: right;\">\n",
       "      <th></th>\n",
       "      <th>user_id</th>\n",
       "      <th>distance</th>\n",
       "      <th>duration</th>\n",
       "      <th>date</th>\n",
       "      <th>month</th>\n",
       "    </tr>\n",
       "  </thead>\n",
       "  <tbody>\n",
       "    <tr>\n",
       "      <th>0</th>\n",
       "      <td>1</td>\n",
       "      <td>4409.92</td>\n",
       "      <td>26</td>\n",
       "      <td>2021-01-01</td>\n",
       "      <td>1</td>\n",
       "    </tr>\n",
       "    <tr>\n",
       "      <th>1</th>\n",
       "      <td>1</td>\n",
       "      <td>2617.59</td>\n",
       "      <td>16</td>\n",
       "      <td>2021-01-18</td>\n",
       "      <td>1</td>\n",
       "    </tr>\n",
       "    <tr>\n",
       "      <th>2</th>\n",
       "      <td>1</td>\n",
       "      <td>754.16</td>\n",
       "      <td>7</td>\n",
       "      <td>2021-04-20</td>\n",
       "      <td>4</td>\n",
       "    </tr>\n",
       "    <tr>\n",
       "      <th>3</th>\n",
       "      <td>1</td>\n",
       "      <td>2694.78</td>\n",
       "      <td>19</td>\n",
       "      <td>2021-08-11</td>\n",
       "      <td>8</td>\n",
       "    </tr>\n",
       "    <tr>\n",
       "      <th>4</th>\n",
       "      <td>1</td>\n",
       "      <td>4028.69</td>\n",
       "      <td>27</td>\n",
       "      <td>2021-08-28</td>\n",
       "      <td>8</td>\n",
       "    </tr>\n",
       "  </tbody>\n",
       "</table>\n",
       "</div>"
      ],
      "text/plain": [
       "   user_id  distance  duration       date  month\n",
       "0        1   4409.92        26 2021-01-01      1\n",
       "1        1   2617.59        16 2021-01-18      1\n",
       "2        1    754.16         7 2021-04-20      4\n",
       "3        1   2694.78        19 2021-08-11      8\n",
       "4        1   4028.69        27 2021-08-28      8"
      ]
     },
     "execution_count": 22,
     "metadata": {},
     "output_type": "execute_result"
    }
   ],
   "source": [
    "rides_df.head()"
   ]
  },
  {
   "cell_type": "code",
   "execution_count": 23,
   "id": "4b2ee1ef",
   "metadata": {},
   "outputs": [
    {
     "name": "stdout",
     "output_type": "stream",
     "text": [
      "<class 'pandas.core.frame.DataFrame'>\n",
      "RangeIndex: 18068 entries, 0 to 18067\n",
      "Data columns (total 5 columns):\n",
      " #   Column    Non-Null Count  Dtype         \n",
      "---  ------    --------------  -----         \n",
      " 0   user_id   18068 non-null  int64         \n",
      " 1   distance  18068 non-null  float64       \n",
      " 2   duration  18068 non-null  int64         \n",
      " 3   date      18068 non-null  datetime64[ns]\n",
      " 4   month     18068 non-null  int64         \n",
      "dtypes: datetime64[ns](1), float64(1), int64(3)\n",
      "memory usage: 705.9 KB\n"
     ]
    }
   ],
   "source": [
    "rides_df.info()"
   ]
  },
  {
   "cell_type": "markdown",
   "id": "e6dc047b",
   "metadata": {},
   "source": [
    "**2.3** *Предоработка subscriptions_df*"
   ]
  },
  {
   "cell_type": "markdown",
   "id": "2664ae1b",
   "metadata": {},
   "source": [
    "Не требуется"
   ]
  },
  {
   "cell_type": "markdown",
   "id": "438d23a2",
   "metadata": {},
   "source": [
    "**Вывод:**"
   ]
  },
  {
   "cell_type": "markdown",
   "id": "cd6490ca",
   "metadata": {},
   "source": [
    "В ходе проведения предобработки данных выполнено:\n",
    "1. В датафрейме 'users_df':\n",
    "- Удалены дубликаты.\n",
    "2. В датафрейме 'rides_df':\n",
    "- Округлены значения в столбце 'distance' до сотых;\n",
    "- Округлены значения в столбце 'duration' до целого, приведены к типы данных 'int';\n",
    "- Приведены значения в столбце 'date' к типу даты pandas;\n",
    "- Создан новый столбец с номером месяца на основе столбца 'date'.\n",
    "3. В датафрейме 'subscriptions_df' изменения не проводились"
   ]
  },
  {
   "cell_type": "markdown",
   "id": "807dd259",
   "metadata": {},
   "source": [
    "---"
   ]
  },
  {
   "cell_type": "markdown",
   "id": "212593c7",
   "metadata": {},
   "source": [
    "#### Шаг 3. Исследовательский анализ данных"
   ]
  },
  {
   "cell_type": "markdown",
   "id": "31cf8dbc",
   "metadata": {},
   "source": [
    "*Опиcание и визуализация общей информации о пользователях и поездках:*"
   ]
  },
  {
   "cell_type": "markdown",
   "id": "c86cfc94",
   "metadata": {},
   "source": [
    "**3.1** Частота встречаемости городов."
   ]
  },
  {
   "cell_type": "code",
   "execution_count": 24,
   "id": "d43359c6",
   "metadata": {},
   "outputs": [
    {
     "data": {
      "image/png": "[encoded data removed]",
      "text/plain": [
       "<Figure size 1080x504 with 1 Axes>"
      ]
     },
     "metadata": {
      "needs_background": "light"
     },
     "output_type": "display_data"
    }
   ],
   "source": [
    "users_df.pivot_table(index='city', values='user_id', aggfunc='count').sort_values(by='user_id', ascending=True).plot(kind='barh', grid=True, figsize=(15, 7))\n",
    "plt.title('Количество пользователей по городам')\n",
    "plt.xlabel('Количество')\n",
    "plt.ylabel('Город')\n",
    "plt.show();"
   ]
  },
  {
   "cell_type": "markdown",
   "id": "9aadf131",
   "metadata": {},
   "source": [
    "<div class=\"alert alert-block alert-success\">✔️\n",
    "    \n",
    "\n",
    "__Комментарий от ревьюера №1__\n",
    "\n",
    "Отличный и наглядный график 👍\n",
    "    \n",
    "Здорово, когда он подписан. Так быстрее понять о чем идёт речь на нём.\n",
    "    \n",
    "</div>"
   ]
  },
  {
   "cell_type": "markdown",
   "id": "84b3bea1",
   "metadata": {},
   "source": [
    "Количество пользователей по городам"
   ]
  },
  {
   "cell_type": "code",
   "execution_count": 25,
   "id": "2771aa76",
   "metadata": {},
   "outputs": [
    {
     "data": {
      "text/html": [
       "<div>\n",
       "<style scoped>\n",
       "    .dataframe tbody tr th:only-of-type {\n",
       "        vertical-align: middle;\n",
       "    }\n",
       "\n",
       "    .dataframe tbody tr th {\n",
       "        vertical-align: top;\n",
       "    }\n",
       "\n",
       "    .dataframe thead th {\n",
       "        text-align: right;\n",
       "    }\n",
       "</style>\n",
       "<table border=\"1\" class=\"dataframe\">\n",
       "  <thead>\n",
       "    <tr style=\"text-align: right;\">\n",
       "      <th></th>\n",
       "      <th>user_id</th>\n",
       "    </tr>\n",
       "    <tr>\n",
       "      <th>city</th>\n",
       "      <th></th>\n",
       "    </tr>\n",
       "  </thead>\n",
       "  <tbody>\n",
       "    <tr>\n",
       "      <th>Пятигорск</th>\n",
       "      <td>219</td>\n",
       "    </tr>\n",
       "    <tr>\n",
       "      <th>Екатеринбург</th>\n",
       "      <td>204</td>\n",
       "    </tr>\n",
       "    <tr>\n",
       "      <th>Ростов-на-Дону</th>\n",
       "      <td>198</td>\n",
       "    </tr>\n",
       "    <tr>\n",
       "      <th>Краснодар</th>\n",
       "      <td>193</td>\n",
       "    </tr>\n",
       "    <tr>\n",
       "      <th>Сочи</th>\n",
       "      <td>189</td>\n",
       "    </tr>\n",
       "    <tr>\n",
       "      <th>Омск</th>\n",
       "      <td>183</td>\n",
       "    </tr>\n",
       "    <tr>\n",
       "      <th>Тюмень</th>\n",
       "      <td>180</td>\n",
       "    </tr>\n",
       "    <tr>\n",
       "      <th>Москва</th>\n",
       "      <td>168</td>\n",
       "    </tr>\n",
       "  </tbody>\n",
       "</table>\n",
       "</div>"
      ],
      "text/plain": [
       "                user_id\n",
       "city                   \n",
       "Пятигорск           219\n",
       "Екатеринбург        204\n",
       "Ростов-на-Дону      198\n",
       "Краснодар           193\n",
       "Сочи                189\n",
       "Омск                183\n",
       "Тюмень              180\n",
       "Москва              168"
      ]
     },
     "execution_count": 25,
     "metadata": {},
     "output_type": "execute_result"
    }
   ],
   "source": [
    "users_df.pivot_table(index='city', values='user_id', aggfunc='count').sort_values(by='user_id', ascending=False)"
   ]
  },
  {
   "cell_type": "markdown",
   "id": "f0fdc0e2",
   "metadata": {},
   "source": [
    "**Вывод:**"
   ]
  },
  {
   "cell_type": "markdown",
   "id": "1028f5bd",
   "metadata": {},
   "source": [
    "Больше всего пользователей из Пятигорска и Екатеринбурга - больше 200,в Ростове-на-Дону, Краснодаре, Сочи, Омске, Тюмене - от 180 до 198. Самый низкий показатель в Москве."
   ]
  },
  {
   "cell_type": "markdown",
   "id": "7e157469",
   "metadata": {},
   "source": [
    "**3.2** соотношение пользователей с подпиской и без подписки."
   ]
  },
  {
   "cell_type": "code",
   "execution_count": 26,
   "id": "bc32d3d4",
   "metadata": {},
   "outputs": [
    {
     "data": {
      "image/png": "[encoded data removed]",
      "text/plain": [
       "<Figure size 720x720 with 1 Axes>"
      ]
     },
     "metadata": {},
     "output_type": "display_data"
    }
   ],
   "source": [
    "users_df.pivot_table(index='subscription_type', values='user_id', aggfunc='count').plot.pie(y='user_id', figsize=(10, 10), label='Количество пользователей', title = 'Соотношение пользователей с подпиской и без подписки', autopct = '%1.1f%%')\n",
    "plt.show();"
   ]
  },
  {
   "cell_type": "markdown",
   "id": "076a49fe",
   "metadata": {},
   "source": [
    "**Вывод:**"
   ]
  },
  {
   "cell_type": "markdown",
   "id": "bbd9932a",
   "metadata": {},
   "source": [
    "Пользователей без подписки (free) - 54.4%, пользователей с подпиской ultra - 45.6%."
   ]
  },
  {
   "cell_type": "markdown",
   "id": "c7fce3fd",
   "metadata": {},
   "source": [
    "**3.3** возраст пользователей."
   ]
  },
  {
   "cell_type": "code",
   "execution_count": 27,
   "id": "f4287af5",
   "metadata": {},
   "outputs": [
    {
     "data": {
      "image/png": "[encoded data removed]",
      "text/plain": [
       "<Figure size 1080x504 with 1 Axes>"
      ]
     },
     "metadata": {
      "needs_background": "light"
     },
     "output_type": "display_data"
    }
   ],
   "source": [
    "age_difference = users_df['age'].max() - users_df['age'].min()\n",
    "users_df['age'].hist(bins=age_difference, figsize=(15, 7), edgecolor='red')\n",
    "plt.title('Количество пользователей по возрасту')\n",
    "plt.xlabel('Возраст')\n",
    "plt.ylabel('Количество')\n",
    "plt.show();"
   ]
  },
  {
   "cell_type": "markdown",
   "id": "03376c13",
   "metadata": {},
   "source": [
    "Общая информация по возрасту пользователей"
   ]
  },
  {
   "cell_type": "code",
   "execution_count": 28,
   "id": "0f2e0373",
   "metadata": {},
   "outputs": [
    {
     "data": {
      "text/plain": [
       "count    1534.000000\n",
       "mean       24.903520\n",
       "std         4.572367\n",
       "min        12.000000\n",
       "25%        22.000000\n",
       "50%        25.000000\n",
       "75%        28.000000\n",
       "max        43.000000\n",
       "Name: age, dtype: float64"
      ]
     },
     "execution_count": 28,
     "metadata": {},
     "output_type": "execute_result"
    }
   ],
   "source": [
    "users_df['age'].describe()"
   ]
  },
  {
   "cell_type": "markdown",
   "id": "e062e166",
   "metadata": {},
   "source": [
    "Размах данных по возрасту"
   ]
  },
  {
   "cell_type": "code",
   "execution_count": 29,
   "id": "bfe6fd32",
   "metadata": {},
   "outputs": [
    {
     "data": {
      "image/png": "[encoded data removed]",
      "text/plain": [
       "<Figure size 1080x504 with 1 Axes>"
      ]
     },
     "metadata": {
      "needs_background": "light"
     },
     "output_type": "display_data"
    }
   ],
   "source": [
    "plt.figure(figsize=(15, 7))\n",
    "users_df.boxplot('age')\n",
    "plt.title('Размах данных количества пользователей по возрасту')\n",
    "plt.ylabel('Возраст')\n",
    "plt.show();"
   ]
  },
  {
   "cell_type": "markdown",
   "id": "c43806d9",
   "metadata": {},
   "source": [
    "**Вывод:**"
   ]
  },
  {
   "cell_type": "markdown",
   "id": "fe437313",
   "metadata": {},
   "source": [
    "Медианный возраст пользователей - 25 лет, это значит, что половина моложе 25 лет и половина - старше. Межквартильный размах показывает, что 50% пользователей в возрасте от 22 до 28 лет. Также, есть аномальные значения - минимальный возраст клиентов составляет 12 лет."
   ]
  },
  {
   "cell_type": "markdown",
   "id": "c0e9279d",
   "metadata": {},
   "source": [
    "**3.4** расстояние, которое пользователь преодолел за одну поездку."
   ]
  },
  {
   "cell_type": "code",
   "execution_count": 30,
   "id": "57669a40",
   "metadata": {},
   "outputs": [
    {
     "data": {
      "text/plain": [
       "count    18068.000000\n",
       "mean      3070.659992\n",
       "std       1116.831222\n",
       "min          0.860000\n",
       "25%       2543.227500\n",
       "50%       3133.610000\n",
       "75%       3776.220000\n",
       "max       7211.010000\n",
       "Name: distance, dtype: float64"
      ]
     },
     "execution_count": 30,
     "metadata": {},
     "output_type": "execute_result"
    }
   ],
   "source": [
    "rides_df['distance'].describe()"
   ]
  },
  {
   "cell_type": "code",
   "execution_count": 31,
   "id": "63d31e82",
   "metadata": {},
   "outputs": [
    {
     "data": {
      "image/png": "[encoded data removed]",
      "text/plain": [
       "<Figure size 1080x504 with 1 Axes>"
      ]
     },
     "metadata": {
      "needs_background": "light"
     },
     "output_type": "display_data"
    }
   ],
   "source": [
    "rides_df['distance'].hist(bins=500, figsize=(15, 7), range=(0, 7211))\n",
    "plt.title('Количество поездок по их расстоянию')\n",
    "plt.xlabel('Расстояние')\n",
    "plt.ylabel('Количество поездок')\n",
    "plt.show();"
   ]
  },
  {
   "cell_type": "code",
   "execution_count": 32,
   "id": "fa25c124",
   "metadata": {},
   "outputs": [
    {
     "data": {
      "image/png": "[encoded data removed]",
      "text/plain": [
       "<Figure size 1080x504 with 1 Axes>"
      ]
     },
     "metadata": {
      "needs_background": "light"
     },
     "output_type": "display_data"
    }
   ],
   "source": [
    "plt.figure(figsize=(15, 7))\n",
    "rides_df.boxplot('distance')\n",
    "plt.title('Размах данных по расстоянию поездок')\n",
    "plt.ylabel('Расстояние')\n",
    "plt.show();"
   ]
  },
  {
   "cell_type": "markdown",
   "id": "6773f652",
   "metadata": {},
   "source": [
    "**Вывод:**"
   ]
  },
  {
   "cell_type": "markdown",
   "id": "46f966a8",
   "metadata": {},
   "source": [
    "По диаграмме размаха видно, что количество аномальных данных довольно большое. Среднее проезжаемое расстояние - 3070.65 метров, медианное - 3133.61 метра. Половина клиентов проезжают от 2543 до 3776 метров за одну поездку.\n",
    "Удалять аномальные данные нельзя, потому что их слишком много (поездки до 800 метров и поездки свыше 5700 метров)."
   ]
  },
  {
   "cell_type": "markdown",
   "id": "42c9bbc0",
   "metadata": {},
   "source": [
    "**3.5** продолжительность поездок."
   ]
  },
  {
   "cell_type": "code",
   "execution_count": 33,
   "id": "a91bc099",
   "metadata": {},
   "outputs": [
    {
     "data": {
      "text/plain": [
       "count    18068.000000\n",
       "mean        18.303520\n",
       "std          6.094928\n",
       "min          1.000000\n",
       "25%         14.000000\n",
       "50%         18.000000\n",
       "75%         22.000000\n",
       "max         41.000000\n",
       "Name: duration, dtype: float64"
      ]
     },
     "execution_count": 33,
     "metadata": {},
     "output_type": "execute_result"
    }
   ],
   "source": [
    "rides_df['duration'].describe()"
   ]
  },
  {
   "cell_type": "code",
   "execution_count": 34,
   "id": "e103c339",
   "metadata": {},
   "outputs": [
    {
     "data": {
      "image/png": "[encoded data removed]",
      "text/plain": [
       "<Figure size 1080x504 with 1 Axes>"
      ]
     },
     "metadata": {
      "needs_background": "light"
     },
     "output_type": "display_data"
    }
   ],
   "source": [
    "duration_difference = rides_df['duration'].max() - rides_df['duration'].min()\n",
    "rides_df['duration'].hist(bins=duration_difference, figsize=(15, 7), edgecolor='red')\n",
    "plt.title('Количество пользователей по продолжительности поездок')\n",
    "plt.xlabel('Продолжительность')\n",
    "plt.ylabel('Количество')\n",
    "plt.show();"
   ]
  },
  {
   "cell_type": "code",
   "execution_count": 35,
   "id": "9b597a08",
   "metadata": {},
   "outputs": [
    {
     "data": {
      "image/png": "[encoded data removed]",
      "text/plain": [
       "<Figure size 1080x504 with 1 Axes>"
      ]
     },
     "metadata": {
      "needs_background": "light"
     },
     "output_type": "display_data"
    }
   ],
   "source": [
    "plt.figure(figsize=(15, 7))\n",
    "rides_df.boxplot('duration')\n",
    "plt.title('Размах данных по продолжительности поездок')\n",
    "plt.ylabel('Продолжительность')\n",
    "plt.show();"
   ]
  },
  {
   "cell_type": "markdown",
   "id": "11331bf7",
   "metadata": {},
   "source": [
    "**Вывод:**"
   ]
  },
  {
   "cell_type": "markdown",
   "id": "2935dac0",
   "metadata": {},
   "source": [
    "Самая короткая поездка составляет 1 минуту, самая долгая - 41 минуту. По диаграмме видно, что чаще всего поездки от 10 до 27 минут. Средняя продолжительность - 18.3 минуты, медианное - 18 метра. Половина клиентов пользуются самокатом от 14 до 22 минут за одну поездку. Аномальные значения: поездки до 3 минут и свыше 34. Аномальные значения так же не нужно удалять."
   ]
  },
  {
   "cell_type": "markdown",
   "id": "657b7d81",
   "metadata": {},
   "source": [
    "**ВЫВОД:**"
   ]
  },
  {
   "cell_type": "markdown",
   "id": "07fcfc8c",
   "metadata": {},
   "source": [
    "В ходе исследовательского анализа данных, было выявлено:\n",
    "- больше всего пользователей из Пятигорска и Екатеринбурга - больше 200,в Ростове-на-Дону, Краснодаре, Сочи, Омске, Тюмене - от 180 до 198. Самый низкий показатель в Москве;\n",
    "- пользователей без подписки (free) - 54.4%, пользователей с подпиской ultra - 45.6%;\n",
    "- медианный возраст пользователей - 25 лет, это значит, что половина моложе 25 лет и половина - старше. Межквартильный размах показывает, что 50% пользователей в возрасте от 22 до 28 лет. Также, есть аномальные значения - минимальный возраст клиентов составляет 12 лет.\n",
    "- по диаграмме размаха видно, что количество аномальных данных довольно большое. Среднее проезжаемое расстояние - 3070.65 метров, медианное - 3133.61 метра. Половина клиентов проезжают от 2543 до 3776 метров за одну поездку. Удалять аномальные данные нельзя, потому что их слишком много (поездки до 800 метров и поездки свыше 5700 метров);\n",
    "- самая короткая поездка составляет 1 минуту, самая долгая - 41 минуту. По диаграмме видно, что чаще всего поездки от 10 до 27 минут. Средняя продолжительность - 18.3 минуты, медианное - 18 метра. Половина клиентов пользуются самокатом от 14 до 22 минут за одну поездку. Аномальные значения: поездки до 3 минут и свыше 34. Аномальные значения так же не нужно удалять."
   ]
  },
  {
   "cell_type": "markdown",
   "id": "1641b5a8",
   "metadata": {},
   "source": [
    "---"
   ]
  },
  {
   "cell_type": "markdown",
   "id": "4ef51331",
   "metadata": {},
   "source": [
    "#### Шаг 4. Объединение данных"
   ]
  },
  {
   "cell_type": "markdown",
   "id": "4a05e604",
   "metadata": {},
   "source": [
    "**4.1** Объединение данных о пользователях, поездках и подписках в один датафрейм."
   ]
  },
  {
   "cell_type": "code",
   "execution_count": 36,
   "id": "fb9c1f02",
   "metadata": {},
   "outputs": [],
   "source": [
    "main_df = pd.merge(users_df, rides_df, on='user_id')\n",
    "main_df = pd.merge(main_df, subscriptions_df, on='subscription_type')"
   ]
  },
  {
   "cell_type": "code",
   "execution_count": 37,
   "id": "abad3c41",
   "metadata": {},
   "outputs": [
    {
     "data": {
      "text/html": [
       "<div>\n",
       "<style scoped>\n",
       "    .dataframe tbody tr th:only-of-type {\n",
       "        vertical-align: middle;\n",
       "    }\n",
       "\n",
       "    .dataframe tbody tr th {\n",
       "        vertical-align: top;\n",
       "    }\n",
       "\n",
       "    .dataframe thead th {\n",
       "        text-align: right;\n",
       "    }\n",
       "</style>\n",
       "<table border=\"1\" class=\"dataframe\">\n",
       "  <thead>\n",
       "    <tr style=\"text-align: right;\">\n",
       "      <th></th>\n",
       "      <th>user_id</th>\n",
       "      <th>name</th>\n",
       "      <th>age</th>\n",
       "      <th>city</th>\n",
       "      <th>subscription_type</th>\n",
       "      <th>distance</th>\n",
       "      <th>duration</th>\n",
       "      <th>date</th>\n",
       "      <th>month</th>\n",
       "      <th>minute_price</th>\n",
       "      <th>start_ride_price</th>\n",
       "      <th>subscription_fee</th>\n",
       "    </tr>\n",
       "  </thead>\n",
       "  <tbody>\n",
       "    <tr>\n",
       "      <th>0</th>\n",
       "      <td>1</td>\n",
       "      <td>Кира</td>\n",
       "      <td>22</td>\n",
       "      <td>Тюмень</td>\n",
       "      <td>ultra</td>\n",
       "      <td>4409.92</td>\n",
       "      <td>26</td>\n",
       "      <td>2021-01-01</td>\n",
       "      <td>1</td>\n",
       "      <td>6</td>\n",
       "      <td>0</td>\n",
       "      <td>199</td>\n",
       "    </tr>\n",
       "    <tr>\n",
       "      <th>1</th>\n",
       "      <td>1</td>\n",
       "      <td>Кира</td>\n",
       "      <td>22</td>\n",
       "      <td>Тюмень</td>\n",
       "      <td>ultra</td>\n",
       "      <td>2617.59</td>\n",
       "      <td>16</td>\n",
       "      <td>2021-01-18</td>\n",
       "      <td>1</td>\n",
       "      <td>6</td>\n",
       "      <td>0</td>\n",
       "      <td>199</td>\n",
       "    </tr>\n",
       "    <tr>\n",
       "      <th>2</th>\n",
       "      <td>1</td>\n",
       "      <td>Кира</td>\n",
       "      <td>22</td>\n",
       "      <td>Тюмень</td>\n",
       "      <td>ultra</td>\n",
       "      <td>754.16</td>\n",
       "      <td>7</td>\n",
       "      <td>2021-04-20</td>\n",
       "      <td>4</td>\n",
       "      <td>6</td>\n",
       "      <td>0</td>\n",
       "      <td>199</td>\n",
       "    </tr>\n",
       "    <tr>\n",
       "      <th>3</th>\n",
       "      <td>1</td>\n",
       "      <td>Кира</td>\n",
       "      <td>22</td>\n",
       "      <td>Тюмень</td>\n",
       "      <td>ultra</td>\n",
       "      <td>2694.78</td>\n",
       "      <td>19</td>\n",
       "      <td>2021-08-11</td>\n",
       "      <td>8</td>\n",
       "      <td>6</td>\n",
       "      <td>0</td>\n",
       "      <td>199</td>\n",
       "    </tr>\n",
       "    <tr>\n",
       "      <th>4</th>\n",
       "      <td>1</td>\n",
       "      <td>Кира</td>\n",
       "      <td>22</td>\n",
       "      <td>Тюмень</td>\n",
       "      <td>ultra</td>\n",
       "      <td>4028.69</td>\n",
       "      <td>27</td>\n",
       "      <td>2021-08-28</td>\n",
       "      <td>8</td>\n",
       "      <td>6</td>\n",
       "      <td>0</td>\n",
       "      <td>199</td>\n",
       "    </tr>\n",
       "    <tr>\n",
       "      <th>5</th>\n",
       "      <td>1</td>\n",
       "      <td>Кира</td>\n",
       "      <td>22</td>\n",
       "      <td>Тюмень</td>\n",
       "      <td>ultra</td>\n",
       "      <td>2770.89</td>\n",
       "      <td>17</td>\n",
       "      <td>2021-10-09</td>\n",
       "      <td>10</td>\n",
       "      <td>6</td>\n",
       "      <td>0</td>\n",
       "      <td>199</td>\n",
       "    </tr>\n",
       "    <tr>\n",
       "      <th>6</th>\n",
       "      <td>1</td>\n",
       "      <td>Кира</td>\n",
       "      <td>22</td>\n",
       "      <td>Тюмень</td>\n",
       "      <td>ultra</td>\n",
       "      <td>3039.02</td>\n",
       "      <td>15</td>\n",
       "      <td>2021-10-19</td>\n",
       "      <td>10</td>\n",
       "      <td>6</td>\n",
       "      <td>0</td>\n",
       "      <td>199</td>\n",
       "    </tr>\n",
       "    <tr>\n",
       "      <th>7</th>\n",
       "      <td>1</td>\n",
       "      <td>Кира</td>\n",
       "      <td>22</td>\n",
       "      <td>Тюмень</td>\n",
       "      <td>ultra</td>\n",
       "      <td>2842.12</td>\n",
       "      <td>24</td>\n",
       "      <td>2021-11-06</td>\n",
       "      <td>11</td>\n",
       "      <td>6</td>\n",
       "      <td>0</td>\n",
       "      <td>199</td>\n",
       "    </tr>\n",
       "    <tr>\n",
       "      <th>8</th>\n",
       "      <td>1</td>\n",
       "      <td>Кира</td>\n",
       "      <td>22</td>\n",
       "      <td>Тюмень</td>\n",
       "      <td>ultra</td>\n",
       "      <td>3412.69</td>\n",
       "      <td>16</td>\n",
       "      <td>2021-11-14</td>\n",
       "      <td>11</td>\n",
       "      <td>6</td>\n",
       "      <td>0</td>\n",
       "      <td>199</td>\n",
       "    </tr>\n",
       "    <tr>\n",
       "      <th>9</th>\n",
       "      <td>1</td>\n",
       "      <td>Кира</td>\n",
       "      <td>22</td>\n",
       "      <td>Тюмень</td>\n",
       "      <td>ultra</td>\n",
       "      <td>748.69</td>\n",
       "      <td>16</td>\n",
       "      <td>2021-11-22</td>\n",
       "      <td>11</td>\n",
       "      <td>6</td>\n",
       "      <td>0</td>\n",
       "      <td>199</td>\n",
       "    </tr>\n",
       "    <tr>\n",
       "      <th>10</th>\n",
       "      <td>1</td>\n",
       "      <td>Кира</td>\n",
       "      <td>22</td>\n",
       "      <td>Тюмень</td>\n",
       "      <td>ultra</td>\n",
       "      <td>4031.02</td>\n",
       "      <td>18</td>\n",
       "      <td>2021-12-14</td>\n",
       "      <td>12</td>\n",
       "      <td>6</td>\n",
       "      <td>0</td>\n",
       "      <td>199</td>\n",
       "    </tr>\n",
       "    <tr>\n",
       "      <th>11</th>\n",
       "      <td>1</td>\n",
       "      <td>Кира</td>\n",
       "      <td>22</td>\n",
       "      <td>Тюмень</td>\n",
       "      <td>ultra</td>\n",
       "      <td>2720.61</td>\n",
       "      <td>10</td>\n",
       "      <td>2021-12-22</td>\n",
       "      <td>12</td>\n",
       "      <td>6</td>\n",
       "      <td>0</td>\n",
       "      <td>199</td>\n",
       "    </tr>\n",
       "    <tr>\n",
       "      <th>12</th>\n",
       "      <td>2</td>\n",
       "      <td>Станислав</td>\n",
       "      <td>31</td>\n",
       "      <td>Омск</td>\n",
       "      <td>ultra</td>\n",
       "      <td>3105.09</td>\n",
       "      <td>25</td>\n",
       "      <td>2021-03-15</td>\n",
       "      <td>3</td>\n",
       "      <td>6</td>\n",
       "      <td>0</td>\n",
       "      <td>199</td>\n",
       "    </tr>\n",
       "    <tr>\n",
       "      <th>13</th>\n",
       "      <td>2</td>\n",
       "      <td>Станислав</td>\n",
       "      <td>31</td>\n",
       "      <td>Омск</td>\n",
       "      <td>ultra</td>\n",
       "      <td>3053.52</td>\n",
       "      <td>12</td>\n",
       "      <td>2021-03-18</td>\n",
       "      <td>3</td>\n",
       "      <td>6</td>\n",
       "      <td>0</td>\n",
       "      <td>199</td>\n",
       "    </tr>\n",
       "    <tr>\n",
       "      <th>14</th>\n",
       "      <td>2</td>\n",
       "      <td>Станислав</td>\n",
       "      <td>31</td>\n",
       "      <td>Омск</td>\n",
       "      <td>ultra</td>\n",
       "      <td>4029.12</td>\n",
       "      <td>26</td>\n",
       "      <td>2021-03-23</td>\n",
       "      <td>3</td>\n",
       "      <td>6</td>\n",
       "      <td>0</td>\n",
       "      <td>199</td>\n",
       "    </tr>\n",
       "    <tr>\n",
       "      <th>15</th>\n",
       "      <td>2</td>\n",
       "      <td>Станислав</td>\n",
       "      <td>31</td>\n",
       "      <td>Омск</td>\n",
       "      <td>ultra</td>\n",
       "      <td>2805.79</td>\n",
       "      <td>21</td>\n",
       "      <td>2021-04-08</td>\n",
       "      <td>4</td>\n",
       "      <td>6</td>\n",
       "      <td>0</td>\n",
       "      <td>199</td>\n",
       "    </tr>\n",
       "    <tr>\n",
       "      <th>16</th>\n",
       "      <td>2</td>\n",
       "      <td>Станислав</td>\n",
       "      <td>31</td>\n",
       "      <td>Омск</td>\n",
       "      <td>ultra</td>\n",
       "      <td>3358.60</td>\n",
       "      <td>19</td>\n",
       "      <td>2021-04-13</td>\n",
       "      <td>4</td>\n",
       "      <td>6</td>\n",
       "      <td>0</td>\n",
       "      <td>199</td>\n",
       "    </tr>\n",
       "    <tr>\n",
       "      <th>17</th>\n",
       "      <td>2</td>\n",
       "      <td>Станислав</td>\n",
       "      <td>31</td>\n",
       "      <td>Омск</td>\n",
       "      <td>ultra</td>\n",
       "      <td>3255.34</td>\n",
       "      <td>14</td>\n",
       "      <td>2021-06-20</td>\n",
       "      <td>6</td>\n",
       "      <td>6</td>\n",
       "      <td>0</td>\n",
       "      <td>199</td>\n",
       "    </tr>\n",
       "    <tr>\n",
       "      <th>18</th>\n",
       "      <td>2</td>\n",
       "      <td>Станислав</td>\n",
       "      <td>31</td>\n",
       "      <td>Омск</td>\n",
       "      <td>ultra</td>\n",
       "      <td>3942.82</td>\n",
       "      <td>21</td>\n",
       "      <td>2021-07-02</td>\n",
       "      <td>7</td>\n",
       "      <td>6</td>\n",
       "      <td>0</td>\n",
       "      <td>199</td>\n",
       "    </tr>\n",
       "    <tr>\n",
       "      <th>19</th>\n",
       "      <td>2</td>\n",
       "      <td>Станислав</td>\n",
       "      <td>31</td>\n",
       "      <td>Омск</td>\n",
       "      <td>ultra</td>\n",
       "      <td>2837.91</td>\n",
       "      <td>27</td>\n",
       "      <td>2021-07-18</td>\n",
       "      <td>7</td>\n",
       "      <td>6</td>\n",
       "      <td>0</td>\n",
       "      <td>199</td>\n",
       "    </tr>\n",
       "  </tbody>\n",
       "</table>\n",
       "</div>"
      ],
      "text/plain": [
       "    user_id       name  age    city subscription_type  distance  duration  \\\n",
       "0         1       Кира   22  Тюмень             ultra   4409.92        26   \n",
       "1         1       Кира   22  Тюмень             ultra   2617.59        16   \n",
       "2         1       Кира   22  Тюмень             ultra    754.16         7   \n",
       "3         1       Кира   22  Тюмень             ultra   2694.78        19   \n",
       "4         1       Кира   22  Тюмень             ultra   4028.69        27   \n",
       "5         1       Кира   22  Тюмень             ultra   2770.89        17   \n",
       "6         1       Кира   22  Тюмень             ultra   3039.02        15   \n",
       "7         1       Кира   22  Тюмень             ultra   2842.12        24   \n",
       "8         1       Кира   22  Тюмень             ultra   3412.69        16   \n",
       "9         1       Кира   22  Тюмень             ultra    748.69        16   \n",
       "10        1       Кира   22  Тюмень             ultra   4031.02        18   \n",
       "11        1       Кира   22  Тюмень             ultra   2720.61        10   \n",
       "12        2  Станислав   31    Омск             ultra   3105.09        25   \n",
       "13        2  Станислав   31    Омск             ultra   3053.52        12   \n",
       "14        2  Станислав   31    Омск             ultra   4029.12        26   \n",
       "15        2  Станислав   31    Омск             ultra   2805.79        21   \n",
       "16        2  Станислав   31    Омск             ultra   3358.60        19   \n",
       "17        2  Станислав   31    Омск             ultra   3255.34        14   \n",
       "18        2  Станислав   31    Омск             ultra   3942.82        21   \n",
       "19        2  Станислав   31    Омск             ultra   2837.91        27   \n",
       "\n",
       "         date  month  minute_price  start_ride_price  subscription_fee  \n",
       "0  2021-01-01      1             6                 0               199  \n",
       "1  2021-01-18      1             6                 0               199  \n",
       "2  2021-04-20      4             6                 0               199  \n",
       "3  2021-08-11      8             6                 0               199  \n",
       "4  2021-08-28      8             6                 0               199  \n",
       "5  2021-10-09     10             6                 0               199  \n",
       "6  2021-10-19     10             6                 0               199  \n",
       "7  2021-11-06     11             6                 0               199  \n",
       "8  2021-11-14     11             6                 0               199  \n",
       "9  2021-11-22     11             6                 0               199  \n",
       "10 2021-12-14     12             6                 0               199  \n",
       "11 2021-12-22     12             6                 0               199  \n",
       "12 2021-03-15      3             6                 0               199  \n",
       "13 2021-03-18      3             6                 0               199  \n",
       "14 2021-03-23      3             6                 0               199  \n",
       "15 2021-04-08      4             6                 0               199  \n",
       "16 2021-04-13      4             6                 0               199  \n",
       "17 2021-06-20      6             6                 0               199  \n",
       "18 2021-07-02      7             6                 0               199  \n",
       "19 2021-07-18      7             6                 0               199  "
      ]
     },
     "execution_count": 37,
     "metadata": {},
     "output_type": "execute_result"
    }
   ],
   "source": [
    "main_df.head(20)"
   ]
  },
  {
   "cell_type": "code",
   "execution_count": 38,
   "id": "0b459655",
   "metadata": {},
   "outputs": [
    {
     "name": "stdout",
     "output_type": "stream",
     "text": [
      "<class 'pandas.core.frame.DataFrame'>\n",
      "Int64Index: 18068 entries, 0 to 18067\n",
      "Data columns (total 12 columns):\n",
      " #   Column             Non-Null Count  Dtype         \n",
      "---  ------             --------------  -----         \n",
      " 0   user_id            18068 non-null  int64         \n",
      " 1   name               18068 non-null  object        \n",
      " 2   age                18068 non-null  int64         \n",
      " 3   city               18068 non-null  object        \n",
      " 4   subscription_type  18068 non-null  object        \n",
      " 5   distance           18068 non-null  float64       \n",
      " 6   duration           18068 non-null  int64         \n",
      " 7   date               18068 non-null  datetime64[ns]\n",
      " 8   month              18068 non-null  int64         \n",
      " 9   minute_price       18068 non-null  int64         \n",
      " 10  start_ride_price   18068 non-null  int64         \n",
      " 11  subscription_fee   18068 non-null  int64         \n",
      "dtypes: datetime64[ns](1), float64(1), int64(7), object(3)\n",
      "memory usage: 1.8+ MB\n"
     ]
    }
   ],
   "source": [
    "main_df.info()"
   ]
  },
  {
   "cell_type": "markdown",
   "id": "64d73f09",
   "metadata": {},
   "source": [
    "Проверка на пустые значения в датафрейме"
   ]
  },
  {
   "cell_type": "code",
   "execution_count": 39,
   "id": "84fa9a65",
   "metadata": {},
   "outputs": [
    {
     "data": {
      "text/plain": [
       "user_id              0\n",
       "name                 0\n",
       "age                  0\n",
       "city                 0\n",
       "subscription_type    0\n",
       "distance             0\n",
       "duration             0\n",
       "date                 0\n",
       "month                0\n",
       "minute_price         0\n",
       "start_ride_price     0\n",
       "subscription_fee     0\n",
       "dtype: int64"
      ]
     },
     "execution_count": 39,
     "metadata": {},
     "output_type": "execute_result"
    }
   ],
   "source": [
    "main_df.isna().sum()"
   ]
  },
  {
   "cell_type": "markdown",
   "id": "acf1be11",
   "metadata": {},
   "source": [
    "Проверка на явные дубликаты в датафрейме"
   ]
  },
  {
   "cell_type": "code",
   "execution_count": 40,
   "id": "1012e58e",
   "metadata": {},
   "outputs": [
    {
     "data": {
      "text/plain": [
       "0"
      ]
     },
     "execution_count": 40,
     "metadata": {},
     "output_type": "execute_result"
    }
   ],
   "source": [
    "main_df.duplicated().sum()"
   ]
  },
  {
   "cell_type": "markdown",
   "id": "b2739c36",
   "metadata": {},
   "source": [
    "**Вывод:**"
   ]
  },
  {
   "cell_type": "markdown",
   "id": "9ab61f61",
   "metadata": {},
   "source": [
    "Новый датафрейм, объединящий три изначальных датафрейма: users_df, rides_df, subscriptions_df, имеет 18068 строк - столько же, как и в датафрейме'rides_df', значит пустых значений и дубликатов нет, дополнительная проверка произведена."
   ]
  },
  {
   "cell_type": "markdown",
   "id": "7a2225b1",
   "metadata": {},
   "source": [
    "**4.2** Создание ещё двух датафреймов из датафрейма, созданного на этапе 4.1:\n",
    "- c данными о пользователях без подписки;\n",
    "- с данными о пользователях с подпиской."
   ]
  },
  {
   "cell_type": "code",
   "execution_count": 41,
   "id": "6583427c",
   "metadata": {},
   "outputs": [],
   "source": [
    "free_df = main_df[main_df['subscription_type'] == 'free']"
   ]
  },
  {
   "cell_type": "code",
   "execution_count": 42,
   "id": "1c89e80f",
   "metadata": {},
   "outputs": [
    {
     "name": "stdout",
     "output_type": "stream",
     "text": [
      "<class 'pandas.core.frame.DataFrame'>\n",
      "Int64Index: 11568 entries, 6500 to 18067\n",
      "Data columns (total 12 columns):\n",
      " #   Column             Non-Null Count  Dtype         \n",
      "---  ------             --------------  -----         \n",
      " 0   user_id            11568 non-null  int64         \n",
      " 1   name               11568 non-null  object        \n",
      " 2   age                11568 non-null  int64         \n",
      " 3   city               11568 non-null  object        \n",
      " 4   subscription_type  11568 non-null  object        \n",
      " 5   distance           11568 non-null  float64       \n",
      " 6   duration           11568 non-null  int64         \n",
      " 7   date               11568 non-null  datetime64[ns]\n",
      " 8   month              11568 non-null  int64         \n",
      " 9   minute_price       11568 non-null  int64         \n",
      " 10  start_ride_price   11568 non-null  int64         \n",
      " 11  subscription_fee   11568 non-null  int64         \n",
      "dtypes: datetime64[ns](1), float64(1), int64(7), object(3)\n",
      "memory usage: 1.1+ MB\n"
     ]
    }
   ],
   "source": [
    "free_df.info()"
   ]
  },
  {
   "cell_type": "code",
   "execution_count": 43,
   "id": "84c61243",
   "metadata": {},
   "outputs": [
    {
     "data": {
      "text/html": [
       "<div>\n",
       "<style scoped>\n",
       "    .dataframe tbody tr th:only-of-type {\n",
       "        vertical-align: middle;\n",
       "    }\n",
       "\n",
       "    .dataframe tbody tr th {\n",
       "        vertical-align: top;\n",
       "    }\n",
       "\n",
       "    .dataframe thead th {\n",
       "        text-align: right;\n",
       "    }\n",
       "</style>\n",
       "<table border=\"1\" class=\"dataframe\">\n",
       "  <thead>\n",
       "    <tr style=\"text-align: right;\">\n",
       "      <th></th>\n",
       "      <th>user_id</th>\n",
       "      <th>name</th>\n",
       "      <th>age</th>\n",
       "      <th>city</th>\n",
       "      <th>subscription_type</th>\n",
       "      <th>distance</th>\n",
       "      <th>duration</th>\n",
       "      <th>date</th>\n",
       "      <th>month</th>\n",
       "      <th>minute_price</th>\n",
       "      <th>start_ride_price</th>\n",
       "      <th>subscription_fee</th>\n",
       "    </tr>\n",
       "  </thead>\n",
       "  <tbody>\n",
       "    <tr>\n",
       "      <th>6500</th>\n",
       "      <td>700</td>\n",
       "      <td>Айдар</td>\n",
       "      <td>22</td>\n",
       "      <td>Омск</td>\n",
       "      <td>free</td>\n",
       "      <td>2515.69</td>\n",
       "      <td>15</td>\n",
       "      <td>2021-01-02</td>\n",
       "      <td>1</td>\n",
       "      <td>8</td>\n",
       "      <td>50</td>\n",
       "      <td>0</td>\n",
       "    </tr>\n",
       "    <tr>\n",
       "      <th>6501</th>\n",
       "      <td>700</td>\n",
       "      <td>Айдар</td>\n",
       "      <td>22</td>\n",
       "      <td>Омск</td>\n",
       "      <td>free</td>\n",
       "      <td>846.93</td>\n",
       "      <td>17</td>\n",
       "      <td>2021-02-01</td>\n",
       "      <td>2</td>\n",
       "      <td>8</td>\n",
       "      <td>50</td>\n",
       "      <td>0</td>\n",
       "    </tr>\n",
       "    <tr>\n",
       "      <th>6502</th>\n",
       "      <td>700</td>\n",
       "      <td>Айдар</td>\n",
       "      <td>22</td>\n",
       "      <td>Омск</td>\n",
       "      <td>free</td>\n",
       "      <td>4004.43</td>\n",
       "      <td>21</td>\n",
       "      <td>2021-02-04</td>\n",
       "      <td>2</td>\n",
       "      <td>8</td>\n",
       "      <td>50</td>\n",
       "      <td>0</td>\n",
       "    </tr>\n",
       "    <tr>\n",
       "      <th>6503</th>\n",
       "      <td>700</td>\n",
       "      <td>Айдар</td>\n",
       "      <td>22</td>\n",
       "      <td>Омск</td>\n",
       "      <td>free</td>\n",
       "      <td>1205.91</td>\n",
       "      <td>10</td>\n",
       "      <td>2021-02-10</td>\n",
       "      <td>2</td>\n",
       "      <td>8</td>\n",
       "      <td>50</td>\n",
       "      <td>0</td>\n",
       "    </tr>\n",
       "    <tr>\n",
       "      <th>6504</th>\n",
       "      <td>700</td>\n",
       "      <td>Айдар</td>\n",
       "      <td>22</td>\n",
       "      <td>Омск</td>\n",
       "      <td>free</td>\n",
       "      <td>3047.38</td>\n",
       "      <td>18</td>\n",
       "      <td>2021-02-14</td>\n",
       "      <td>2</td>\n",
       "      <td>8</td>\n",
       "      <td>50</td>\n",
       "      <td>0</td>\n",
       "    </tr>\n",
       "  </tbody>\n",
       "</table>\n",
       "</div>"
      ],
      "text/plain": [
       "      user_id   name  age  city subscription_type  distance  duration  \\\n",
       "6500      700  Айдар   22  Омск              free   2515.69        15   \n",
       "6501      700  Айдар   22  Омск              free    846.93        17   \n",
       "6502      700  Айдар   22  Омск              free   4004.43        21   \n",
       "6503      700  Айдар   22  Омск              free   1205.91        10   \n",
       "6504      700  Айдар   22  Омск              free   3047.38        18   \n",
       "\n",
       "           date  month  minute_price  start_ride_price  subscription_fee  \n",
       "6500 2021-01-02      1             8                50                 0  \n",
       "6501 2021-02-01      2             8                50                 0  \n",
       "6502 2021-02-04      2             8                50                 0  \n",
       "6503 2021-02-10      2             8                50                 0  \n",
       "6504 2021-02-14      2             8                50                 0  "
      ]
     },
     "execution_count": 43,
     "metadata": {},
     "output_type": "execute_result"
    }
   ],
   "source": [
    "free_df.head()"
   ]
  },
  {
   "cell_type": "code",
   "execution_count": 44,
   "id": "6057fe26",
   "metadata": {},
   "outputs": [],
   "source": [
    "ultra_df = main_df[main_df['subscription_type'] == 'ultra']"
   ]
  },
  {
   "cell_type": "code",
   "execution_count": 45,
   "id": "d2822a95",
   "metadata": {},
   "outputs": [
    {
     "name": "stdout",
     "output_type": "stream",
     "text": [
      "<class 'pandas.core.frame.DataFrame'>\n",
      "Int64Index: 6500 entries, 0 to 6499\n",
      "Data columns (total 12 columns):\n",
      " #   Column             Non-Null Count  Dtype         \n",
      "---  ------             --------------  -----         \n",
      " 0   user_id            6500 non-null   int64         \n",
      " 1   name               6500 non-null   object        \n",
      " 2   age                6500 non-null   int64         \n",
      " 3   city               6500 non-null   object        \n",
      " 4   subscription_type  6500 non-null   object        \n",
      " 5   distance           6500 non-null   float64       \n",
      " 6   duration           6500 non-null   int64         \n",
      " 7   date               6500 non-null   datetime64[ns]\n",
      " 8   month              6500 non-null   int64         \n",
      " 9   minute_price       6500 non-null   int64         \n",
      " 10  start_ride_price   6500 non-null   int64         \n",
      " 11  subscription_fee   6500 non-null   int64         \n",
      "dtypes: datetime64[ns](1), float64(1), int64(7), object(3)\n",
      "memory usage: 660.2+ KB\n"
     ]
    }
   ],
   "source": [
    "ultra_df.info()"
   ]
  },
  {
   "cell_type": "code",
   "execution_count": 46,
   "id": "c5b6bf97",
   "metadata": {},
   "outputs": [
    {
     "data": {
      "text/html": [
       "<div>\n",
       "<style scoped>\n",
       "    .dataframe tbody tr th:only-of-type {\n",
       "        vertical-align: middle;\n",
       "    }\n",
       "\n",
       "    .dataframe tbody tr th {\n",
       "        vertical-align: top;\n",
       "    }\n",
       "\n",
       "    .dataframe thead th {\n",
       "        text-align: right;\n",
       "    }\n",
       "</style>\n",
       "<table border=\"1\" class=\"dataframe\">\n",
       "  <thead>\n",
       "    <tr style=\"text-align: right;\">\n",
       "      <th></th>\n",
       "      <th>user_id</th>\n",
       "      <th>name</th>\n",
       "      <th>age</th>\n",
       "      <th>city</th>\n",
       "      <th>subscription_type</th>\n",
       "      <th>distance</th>\n",
       "      <th>duration</th>\n",
       "      <th>date</th>\n",
       "      <th>month</th>\n",
       "      <th>minute_price</th>\n",
       "      <th>start_ride_price</th>\n",
       "      <th>subscription_fee</th>\n",
       "    </tr>\n",
       "  </thead>\n",
       "  <tbody>\n",
       "    <tr>\n",
       "      <th>0</th>\n",
       "      <td>1</td>\n",
       "      <td>Кира</td>\n",
       "      <td>22</td>\n",
       "      <td>Тюмень</td>\n",
       "      <td>ultra</td>\n",
       "      <td>4409.92</td>\n",
       "      <td>26</td>\n",
       "      <td>2021-01-01</td>\n",
       "      <td>1</td>\n",
       "      <td>6</td>\n",
       "      <td>0</td>\n",
       "      <td>199</td>\n",
       "    </tr>\n",
       "    <tr>\n",
       "      <th>1</th>\n",
       "      <td>1</td>\n",
       "      <td>Кира</td>\n",
       "      <td>22</td>\n",
       "      <td>Тюмень</td>\n",
       "      <td>ultra</td>\n",
       "      <td>2617.59</td>\n",
       "      <td>16</td>\n",
       "      <td>2021-01-18</td>\n",
       "      <td>1</td>\n",
       "      <td>6</td>\n",
       "      <td>0</td>\n",
       "      <td>199</td>\n",
       "    </tr>\n",
       "    <tr>\n",
       "      <th>2</th>\n",
       "      <td>1</td>\n",
       "      <td>Кира</td>\n",
       "      <td>22</td>\n",
       "      <td>Тюмень</td>\n",
       "      <td>ultra</td>\n",
       "      <td>754.16</td>\n",
       "      <td>7</td>\n",
       "      <td>2021-04-20</td>\n",
       "      <td>4</td>\n",
       "      <td>6</td>\n",
       "      <td>0</td>\n",
       "      <td>199</td>\n",
       "    </tr>\n",
       "    <tr>\n",
       "      <th>3</th>\n",
       "      <td>1</td>\n",
       "      <td>Кира</td>\n",
       "      <td>22</td>\n",
       "      <td>Тюмень</td>\n",
       "      <td>ultra</td>\n",
       "      <td>2694.78</td>\n",
       "      <td>19</td>\n",
       "      <td>2021-08-11</td>\n",
       "      <td>8</td>\n",
       "      <td>6</td>\n",
       "      <td>0</td>\n",
       "      <td>199</td>\n",
       "    </tr>\n",
       "    <tr>\n",
       "      <th>4</th>\n",
       "      <td>1</td>\n",
       "      <td>Кира</td>\n",
       "      <td>22</td>\n",
       "      <td>Тюмень</td>\n",
       "      <td>ultra</td>\n",
       "      <td>4028.69</td>\n",
       "      <td>27</td>\n",
       "      <td>2021-08-28</td>\n",
       "      <td>8</td>\n",
       "      <td>6</td>\n",
       "      <td>0</td>\n",
       "      <td>199</td>\n",
       "    </tr>\n",
       "  </tbody>\n",
       "</table>\n",
       "</div>"
      ],
      "text/plain": [
       "   user_id  name  age    city subscription_type  distance  duration  \\\n",
       "0        1  Кира   22  Тюмень             ultra   4409.92        26   \n",
       "1        1  Кира   22  Тюмень             ultra   2617.59        16   \n",
       "2        1  Кира   22  Тюмень             ultra    754.16         7   \n",
       "3        1  Кира   22  Тюмень             ultra   2694.78        19   \n",
       "4        1  Кира   22  Тюмень             ultra   4028.69        27   \n",
       "\n",
       "        date  month  minute_price  start_ride_price  subscription_fee  \n",
       "0 2021-01-01      1             6                 0               199  \n",
       "1 2021-01-18      1             6                 0               199  \n",
       "2 2021-04-20      4             6                 0               199  \n",
       "3 2021-08-11      8             6                 0               199  \n",
       "4 2021-08-28      8             6                 0               199  "
      ]
     },
     "execution_count": 46,
     "metadata": {},
     "output_type": "execute_result"
    }
   ],
   "source": [
    "ultra_df.head()"
   ]
  },
  {
   "cell_type": "markdown",
   "id": "61a0acd6",
   "metadata": {},
   "source": [
    "**Вывод:**"
   ]
  },
  {
   "cell_type": "markdown",
   "id": "fd02c345",
   "metadata": {},
   "source": [
    "Созданы два новых датафрейма из общего датафрейма:\n",
    "- c данными о пользователях без подписки;\n",
    "- с данными о пользователях с подпиской."
   ]
  },
  {
   "cell_type": "markdown",
   "id": "c4fa707e",
   "metadata": {},
   "source": []
  },
  {
   "cell_type": "markdown",
   "id": "556ee237",
   "metadata": {},
   "source": [
    "**4.3** Визуализация информации о расстоянии и времени поездок для пользователей обеих категорий."
   ]
  },
  {
   "cell_type": "code",
   "execution_count": 47,
   "id": "9f6c15ff",
   "metadata": {},
   "outputs": [
    {
     "data": {
      "image/png": "[encoded data removed]",
      "text/plain": [
       "<Figure size 1080x504 with 1 Axes>"
      ]
     },
     "metadata": {
      "needs_background": "light"
     },
     "output_type": "display_data"
    }
   ],
   "source": [
    "plt.figure(figsize=(15, 7))\n",
    "plt.hist([free_df['distance'], ultra_df['distance']], bins=100, label=['free', 'ultra'], range=(0, 6000))\n",
    "plt.title('Количество поездок в зависимости от расстояния')\n",
    "plt.legend(loc='upper right')\n",
    "plt.xlabel('Расстояние')\n",
    "plt.ylabel('Количество поездок')\n",
    "plt.show();"
   ]
  },
  {
   "cell_type": "code",
   "execution_count": 48,
   "id": "cb446cb5",
   "metadata": {},
   "outputs": [
    {
     "data": {
      "image/png": "[encoded data removed]",
      "text/plain": [
       "<Figure size 1080x504 with 1 Axes>"
      ]
     },
     "metadata": {
      "needs_background": "light"
     },
     "output_type": "display_data"
    }
   ],
   "source": [
    "plt.figure(figsize=(15, 7))\n",
    "plt.hist([free_df['duration'], ultra_df['duration']], bins=40, label=['free', 'ultra'], range=(0, 40))\n",
    "plt.title('Количество поездок в зависимости от длительности')\n",
    "plt.legend(loc='upper right')\n",
    "plt.xlabel('Длительность')\n",
    "plt.ylabel('Количество поездок')\n",
    "plt.show();"
   ]
  },
  {
   "cell_type": "code",
   "execution_count": 49,
   "id": "7309cb63",
   "metadata": {},
   "outputs": [
    {
     "data": {
      "text/plain": [
       "(count    11568.000000\n",
       " mean      3045.495284\n",
       " std       1246.173810\n",
       " min          0.860000\n",
       " 25%       2366.560000\n",
       " 50%       3114.650000\n",
       " 75%       3905.695000\n",
       " max       7211.010000\n",
       " Name: distance, dtype: float64,\n",
       " count    6500.000000\n",
       " mean     3115.445431\n",
       " std       836.895369\n",
       " min       244.210000\n",
       " 25%      2785.447500\n",
       " 50%      3148.640000\n",
       " 75%      3560.577500\n",
       " max      5699.770000\n",
       " Name: distance, dtype: float64)"
      ]
     },
     "execution_count": 49,
     "metadata": {},
     "output_type": "execute_result"
    }
   ],
   "source": [
    "free_df['distance'].describe(), ultra_df['distance'].describe()"
   ]
  },
  {
   "cell_type": "code",
   "execution_count": 50,
   "id": "fd844a73",
   "metadata": {},
   "outputs": [
    {
     "data": {
      "text/plain": [
       "(count    11568.000000\n",
       " mean        17.890992\n",
       " std          6.330250\n",
       " min          1.000000\n",
       " 25%         13.000000\n",
       " 50%         18.000000\n",
       " 75%         22.000000\n",
       " max         35.000000\n",
       " Name: duration, dtype: float64,\n",
       " count    6500.000000\n",
       " mean       19.037692\n",
       " std         5.577439\n",
       " min         4.000000\n",
       " 25%        15.000000\n",
       " 50%        19.000000\n",
       " 75%        22.000000\n",
       " max        41.000000\n",
       " Name: duration, dtype: float64)"
      ]
     },
     "execution_count": 50,
     "metadata": {},
     "output_type": "execute_result"
    }
   ],
   "source": [
    "free_df['duration'].describe(), ultra_df['duration'].describe()"
   ]
  },
  {
   "cell_type": "markdown",
   "id": "411369d4",
   "metadata": {},
   "source": [
    "**Вывод:**"
   ]
  },
  {
   "cell_type": "markdown",
   "id": "d1c74c5c",
   "metadata": {},
   "source": [
    "У пользователей без подписки есть аномально короткие по времени и расстоянию поездки.\n",
    "Средние и медианные значения больше у пользователей с подпиской. По минимальным значения длительности и расстояния такая же зависимость."
   ]
  },
  {
   "cell_type": "markdown",
   "id": "779ace92",
   "metadata": {},
   "source": [
    "**ВЫВОД:**"
   ]
  },
  {
   "cell_type": "markdown",
   "id": "e878df7f",
   "metadata": {},
   "source": [
    "В ходе объединение данных, было сделано и выявлено:\n",
    "- создан новый датафрейм, объединящий три изначальных датафрейма: users_df, rides_df, subscriptions_df, который имеет 18068, пустых значений и дубликатов нет;\n",
    "- созданы еще два датафрейма из нового датафрейма: c данными о пользователях без подписки и с данными о пользователях с подпиской;\n",
    "- Выявлена зависимость от наличия подписки: подписка влияет на расстояние и длительность поездок. У пользователей без подписки есть аномально короткие по времени и расстоянию поездки. Средние и медианные значения больше у пользователей с подпиской. По минимальным значения длительности и расстояния такая же зависимость."
   ]
  },
  {
   "cell_type": "markdown",
   "id": "d8dfcadd",
   "metadata": {},
   "source": [
    "---"
   ]
  },
  {
   "cell_type": "markdown",
   "id": "402d620f",
   "metadata": {},
   "source": [
    "#### Шаг 5. Подсчёт выручки"
   ]
  },
  {
   "cell_type": "markdown",
   "id": "6c16f3ed",
   "metadata": {},
   "source": [
    "**5.1** \n",
    "- Создание датафрейма с агрегированными данными о поездках на основе датафрейма с объединёнными данными из шага 4.\n",
    "- Поиск суммарного расстояния, количества поездок и суммарного времени для каждого пользователя за каждый месяц."
   ]
  },
  {
   "cell_type": "code",
   "execution_count": 51,
   "id": "19703bcf",
   "metadata": {},
   "outputs": [],
   "source": [
    "users_month_profit = main_df.pivot_table(\n",
    "    index=['user_id', 'month'],\n",
    "    values=['distance', 'duration', 'minute_price', 'start_ride_price', 'subscription_fee'],\n",
    "    aggfunc={\n",
    "        'distance': ['count', 'sum'],\n",
    "        'duration': 'sum',\n",
    "        'minute_price': 'mean',\n",
    "        'start_ride_price': 'mean',\n",
    "        'subscription_fee': 'mean',\n",
    "        }\n",
    ")"
   ]
  },
  {
   "cell_type": "code",
   "execution_count": 52,
   "id": "4ae7a0ca",
   "metadata": {},
   "outputs": [],
   "source": [
    "users_month_profit.columns = ['count', 'distance', 'duration', 'minute_price', 'start_ride_price', 'subscription_fee']"
   ]
  },
  {
   "cell_type": "code",
   "execution_count": 53,
   "id": "a5c03632",
   "metadata": {},
   "outputs": [
    {
     "data": {
      "text/html": [
       "<div>\n",
       "<style scoped>\n",
       "    .dataframe tbody tr th:only-of-type {\n",
       "        vertical-align: middle;\n",
       "    }\n",
       "\n",
       "    .dataframe tbody tr th {\n",
       "        vertical-align: top;\n",
       "    }\n",
       "\n",
       "    .dataframe thead th {\n",
       "        text-align: right;\n",
       "    }\n",
       "</style>\n",
       "<table border=\"1\" class=\"dataframe\">\n",
       "  <thead>\n",
       "    <tr style=\"text-align: right;\">\n",
       "      <th></th>\n",
       "      <th></th>\n",
       "      <th>count</th>\n",
       "      <th>distance</th>\n",
       "      <th>duration</th>\n",
       "      <th>minute_price</th>\n",
       "      <th>start_ride_price</th>\n",
       "      <th>subscription_fee</th>\n",
       "    </tr>\n",
       "    <tr>\n",
       "      <th>user_id</th>\n",
       "      <th>month</th>\n",
       "      <th></th>\n",
       "      <th></th>\n",
       "      <th></th>\n",
       "      <th></th>\n",
       "      <th></th>\n",
       "      <th></th>\n",
       "    </tr>\n",
       "  </thead>\n",
       "  <tbody>\n",
       "    <tr>\n",
       "      <th rowspan=\"6\" valign=\"top\">1</th>\n",
       "      <th>1</th>\n",
       "      <td>2</td>\n",
       "      <td>7027.51</td>\n",
       "      <td>42</td>\n",
       "      <td>6</td>\n",
       "      <td>0</td>\n",
       "      <td>199</td>\n",
       "    </tr>\n",
       "    <tr>\n",
       "      <th>4</th>\n",
       "      <td>1</td>\n",
       "      <td>754.16</td>\n",
       "      <td>7</td>\n",
       "      <td>6</td>\n",
       "      <td>0</td>\n",
       "      <td>199</td>\n",
       "    </tr>\n",
       "    <tr>\n",
       "      <th>8</th>\n",
       "      <td>2</td>\n",
       "      <td>6723.47</td>\n",
       "      <td>46</td>\n",
       "      <td>6</td>\n",
       "      <td>0</td>\n",
       "      <td>199</td>\n",
       "    </tr>\n",
       "    <tr>\n",
       "      <th>10</th>\n",
       "      <td>2</td>\n",
       "      <td>5809.91</td>\n",
       "      <td>32</td>\n",
       "      <td>6</td>\n",
       "      <td>0</td>\n",
       "      <td>199</td>\n",
       "    </tr>\n",
       "    <tr>\n",
       "      <th>11</th>\n",
       "      <td>3</td>\n",
       "      <td>7003.50</td>\n",
       "      <td>56</td>\n",
       "      <td>6</td>\n",
       "      <td>0</td>\n",
       "      <td>199</td>\n",
       "    </tr>\n",
       "    <tr>\n",
       "      <th>12</th>\n",
       "      <td>2</td>\n",
       "      <td>6751.63</td>\n",
       "      <td>28</td>\n",
       "      <td>6</td>\n",
       "      <td>0</td>\n",
       "      <td>199</td>\n",
       "    </tr>\n",
       "    <tr>\n",
       "      <th rowspan=\"4\" valign=\"top\">2</th>\n",
       "      <th>3</th>\n",
       "      <td>3</td>\n",
       "      <td>10187.73</td>\n",
       "      <td>63</td>\n",
       "      <td>6</td>\n",
       "      <td>0</td>\n",
       "      <td>199</td>\n",
       "    </tr>\n",
       "    <tr>\n",
       "      <th>4</th>\n",
       "      <td>2</td>\n",
       "      <td>6164.39</td>\n",
       "      <td>40</td>\n",
       "      <td>6</td>\n",
       "      <td>0</td>\n",
       "      <td>199</td>\n",
       "    </tr>\n",
       "    <tr>\n",
       "      <th>6</th>\n",
       "      <td>1</td>\n",
       "      <td>3255.34</td>\n",
       "      <td>14</td>\n",
       "      <td>6</td>\n",
       "      <td>0</td>\n",
       "      <td>199</td>\n",
       "    </tr>\n",
       "    <tr>\n",
       "      <th>7</th>\n",
       "      <td>2</td>\n",
       "      <td>6780.73</td>\n",
       "      <td>48</td>\n",
       "      <td>6</td>\n",
       "      <td>0</td>\n",
       "      <td>199</td>\n",
       "    </tr>\n",
       "  </tbody>\n",
       "</table>\n",
       "</div>"
      ],
      "text/plain": [
       "               count  distance  duration  minute_price  start_ride_price  \\\n",
       "user_id month                                                              \n",
       "1       1          2   7027.51        42             6                 0   \n",
       "        4          1    754.16         7             6                 0   \n",
       "        8          2   6723.47        46             6                 0   \n",
       "        10         2   5809.91        32             6                 0   \n",
       "        11         3   7003.50        56             6                 0   \n",
       "        12         2   6751.63        28             6                 0   \n",
       "2       3          3  10187.73        63             6                 0   \n",
       "        4          2   6164.39        40             6                 0   \n",
       "        6          1   3255.34        14             6                 0   \n",
       "        7          2   6780.73        48             6                 0   \n",
       "\n",
       "               subscription_fee  \n",
       "user_id month                    \n",
       "1       1                   199  \n",
       "        4                   199  \n",
       "        8                   199  \n",
       "        10                  199  \n",
       "        11                  199  \n",
       "        12                  199  \n",
       "2       3                   199  \n",
       "        4                   199  \n",
       "        6                   199  \n",
       "        7                   199  "
      ]
     },
     "execution_count": 53,
     "metadata": {},
     "output_type": "execute_result"
    }
   ],
   "source": [
    "users_month_profit.head(10)"
   ]
  },
  {
   "cell_type": "markdown",
   "id": "ab3377ff",
   "metadata": {},
   "source": [
    "**Вывод:**"
   ]
  },
  {
   "cell_type": "markdown",
   "id": "44c1ff50",
   "metadata": {},
   "source": [
    "- Создан датафрейм с агрегированными данными о поездках на основе датафрейма с объединёнными данными из шага 4;\n",
    "- Найдены суммарное расстояние, количество поездок и суммарное время для каждого пользователя за каждый месяц."
   ]
  },
  {
   "cell_type": "markdown",
   "id": "0bc3f2b1",
   "metadata": {},
   "source": [
    "**5.2**  Добавление в этот же датафрейм столбца с помесячной выручкой, которую принёс каждый пользователь."
   ]
  },
  {
   "cell_type": "code",
   "execution_count": 54,
   "id": "c4d336d7",
   "metadata": {},
   "outputs": [],
   "source": [
    "# Помесячная выручка = стоимость старта поездки * количество поездок + стоимость одной минуты поездки * общая продолжительность всех поездок в минутах + стоимость подписки"
   ]
  },
  {
   "cell_type": "code",
   "execution_count": 55,
   "id": "4873664a",
   "metadata": {},
   "outputs": [],
   "source": [
    "users_month_profit['profit'] = (users_month_profit['start_ride_price']*users_month_profit['count']+users_month_profit['minute_price']*users_month_profit['duration']+users_month_profit['subscription_fee'])"
   ]
  },
  {
   "cell_type": "code",
   "execution_count": 56,
   "id": "7388fcc9",
   "metadata": {},
   "outputs": [
    {
     "data": {
      "text/html": [
       "<div>\n",
       "<style scoped>\n",
       "    .dataframe tbody tr th:only-of-type {\n",
       "        vertical-align: middle;\n",
       "    }\n",
       "\n",
       "    .dataframe tbody tr th {\n",
       "        vertical-align: top;\n",
       "    }\n",
       "\n",
       "    .dataframe thead th {\n",
       "        text-align: right;\n",
       "    }\n",
       "</style>\n",
       "<table border=\"1\" class=\"dataframe\">\n",
       "  <thead>\n",
       "    <tr style=\"text-align: right;\">\n",
       "      <th></th>\n",
       "      <th></th>\n",
       "      <th>count</th>\n",
       "      <th>distance</th>\n",
       "      <th>duration</th>\n",
       "      <th>minute_price</th>\n",
       "      <th>start_ride_price</th>\n",
       "      <th>subscription_fee</th>\n",
       "      <th>profit</th>\n",
       "    </tr>\n",
       "    <tr>\n",
       "      <th>user_id</th>\n",
       "      <th>month</th>\n",
       "      <th></th>\n",
       "      <th></th>\n",
       "      <th></th>\n",
       "      <th></th>\n",
       "      <th></th>\n",
       "      <th></th>\n",
       "      <th></th>\n",
       "    </tr>\n",
       "  </thead>\n",
       "  <tbody>\n",
       "    <tr>\n",
       "      <th rowspan=\"6\" valign=\"top\">1</th>\n",
       "      <th>1</th>\n",
       "      <td>2</td>\n",
       "      <td>7027.51</td>\n",
       "      <td>42</td>\n",
       "      <td>6</td>\n",
       "      <td>0</td>\n",
       "      <td>199</td>\n",
       "      <td>451</td>\n",
       "    </tr>\n",
       "    <tr>\n",
       "      <th>4</th>\n",
       "      <td>1</td>\n",
       "      <td>754.16</td>\n",
       "      <td>7</td>\n",
       "      <td>6</td>\n",
       "      <td>0</td>\n",
       "      <td>199</td>\n",
       "      <td>241</td>\n",
       "    </tr>\n",
       "    <tr>\n",
       "      <th>8</th>\n",
       "      <td>2</td>\n",
       "      <td>6723.47</td>\n",
       "      <td>46</td>\n",
       "      <td>6</td>\n",
       "      <td>0</td>\n",
       "      <td>199</td>\n",
       "      <td>475</td>\n",
       "    </tr>\n",
       "    <tr>\n",
       "      <th>10</th>\n",
       "      <td>2</td>\n",
       "      <td>5809.91</td>\n",
       "      <td>32</td>\n",
       "      <td>6</td>\n",
       "      <td>0</td>\n",
       "      <td>199</td>\n",
       "      <td>391</td>\n",
       "    </tr>\n",
       "    <tr>\n",
       "      <th>11</th>\n",
       "      <td>3</td>\n",
       "      <td>7003.50</td>\n",
       "      <td>56</td>\n",
       "      <td>6</td>\n",
       "      <td>0</td>\n",
       "      <td>199</td>\n",
       "      <td>535</td>\n",
       "    </tr>\n",
       "    <tr>\n",
       "      <th>12</th>\n",
       "      <td>2</td>\n",
       "      <td>6751.63</td>\n",
       "      <td>28</td>\n",
       "      <td>6</td>\n",
       "      <td>0</td>\n",
       "      <td>199</td>\n",
       "      <td>367</td>\n",
       "    </tr>\n",
       "    <tr>\n",
       "      <th rowspan=\"4\" valign=\"top\">2</th>\n",
       "      <th>3</th>\n",
       "      <td>3</td>\n",
       "      <td>10187.73</td>\n",
       "      <td>63</td>\n",
       "      <td>6</td>\n",
       "      <td>0</td>\n",
       "      <td>199</td>\n",
       "      <td>577</td>\n",
       "    </tr>\n",
       "    <tr>\n",
       "      <th>4</th>\n",
       "      <td>2</td>\n",
       "      <td>6164.39</td>\n",
       "      <td>40</td>\n",
       "      <td>6</td>\n",
       "      <td>0</td>\n",
       "      <td>199</td>\n",
       "      <td>439</td>\n",
       "    </tr>\n",
       "    <tr>\n",
       "      <th>6</th>\n",
       "      <td>1</td>\n",
       "      <td>3255.34</td>\n",
       "      <td>14</td>\n",
       "      <td>6</td>\n",
       "      <td>0</td>\n",
       "      <td>199</td>\n",
       "      <td>283</td>\n",
       "    </tr>\n",
       "    <tr>\n",
       "      <th>7</th>\n",
       "      <td>2</td>\n",
       "      <td>6780.73</td>\n",
       "      <td>48</td>\n",
       "      <td>6</td>\n",
       "      <td>0</td>\n",
       "      <td>199</td>\n",
       "      <td>487</td>\n",
       "    </tr>\n",
       "  </tbody>\n",
       "</table>\n",
       "</div>"
      ],
      "text/plain": [
       "               count  distance  duration  minute_price  start_ride_price  \\\n",
       "user_id month                                                              \n",
       "1       1          2   7027.51        42             6                 0   \n",
       "        4          1    754.16         7             6                 0   \n",
       "        8          2   6723.47        46             6                 0   \n",
       "        10         2   5809.91        32             6                 0   \n",
       "        11         3   7003.50        56             6                 0   \n",
       "        12         2   6751.63        28             6                 0   \n",
       "2       3          3  10187.73        63             6                 0   \n",
       "        4          2   6164.39        40             6                 0   \n",
       "        6          1   3255.34        14             6                 0   \n",
       "        7          2   6780.73        48             6                 0   \n",
       "\n",
       "               subscription_fee  profit  \n",
       "user_id month                            \n",
       "1       1                   199     451  \n",
       "        4                   199     241  \n",
       "        8                   199     475  \n",
       "        10                  199     391  \n",
       "        11                  199     535  \n",
       "        12                  199     367  \n",
       "2       3                   199     577  \n",
       "        4                   199     439  \n",
       "        6                   199     283  \n",
       "        7                   199     487  "
      ]
     },
     "execution_count": 56,
     "metadata": {},
     "output_type": "execute_result"
    }
   ],
   "source": [
    "users_month_profit.head(10)"
   ]
  },
  {
   "cell_type": "markdown",
   "id": "564aba38",
   "metadata": {},
   "source": [
    "Выручка всего:"
   ]
  },
  {
   "cell_type": "code",
   "execution_count": 57,
   "id": "d2716298",
   "metadata": {},
   "outputs": [
    {
     "data": {
      "text/plain": [
       "3878641"
      ]
     },
     "execution_count": 57,
     "metadata": {},
     "output_type": "execute_result"
    }
   ],
   "source": [
    "users_month_profit['profit'].sum()"
   ]
  },
  {
   "cell_type": "markdown",
   "id": "b54a4c7c",
   "metadata": {},
   "source": [
    "**Вывод:**"
   ]
  },
  {
   "cell_type": "markdown",
   "id": "b4765fa5",
   "metadata": {},
   "source": [
    "Добавлен в этот же датафрейм столбец с помесячной выручкой, которую принёс каждый пользователь."
   ]
  },
  {
   "cell_type": "markdown",
   "id": "b8db4c6e",
   "metadata": {},
   "source": [
    "**ВЫВОД:**\n",
    "- создан датафрейм с агрегированными данными о поездках на основе датафрейма с объединёнными данными из шага 4;\n",
    "- найдены суммарное расстояние, количество поездок и суммарное время для каждого пользователя за каждый месяц;\n",
    "- добавлен в этот же датафрейм столбец с помесячной выручкой, которую принёс каждый пользователь.\n",
    "\n",
    "Выручка сервиса составила 3 878 641 руб."
   ]
  },
  {
   "cell_type": "markdown",
   "id": "93839ea0",
   "metadata": {},
   "source": [
    "---"
   ]
  },
  {
   "cell_type": "markdown",
   "id": "41545ac0",
   "metadata": {},
   "source": [
    "#### Шаг 6. Проверка гипотез"
   ]
  },
  {
   "cell_type": "markdown",
   "id": "f31b9aa4",
   "metadata": {},
   "source": [
    "**6.1** Проверка гипотезы: Тратят ли пользователи с подпиской больше времени на поездки? Если да, то пользователи с подпиской могут быть «выгоднее» для компании."
   ]
  },
  {
   "cell_type": "markdown",
   "id": "0e78044a",
   "metadata": {},
   "source": [
    "Выдвинем гипотезы:"
   ]
  },
  {
   "cell_type": "markdown",
   "id": "5ab9a37d",
   "metadata": {},
   "source": [
    "H0: Средние продолжительности поездок с подпиской и без равны\n",
    "\n",
    "H1: Средняя продолжительность поездки с подпиской больше поездки без подписки"
   ]
  },
  {
   "cell_type": "code",
   "execution_count": 58,
   "id": "61f7cc86",
   "metadata": {},
   "outputs": [
    {
     "name": "stdout",
     "output_type": "stream",
     "text": [
      "p-значение: 2.4959453720736625e-34\n",
      "Отвергаем нулевую гипотезу\n"
     ]
    }
   ],
   "source": [
    "results = st.ttest_ind(\n",
    "    ultra_df['duration'],\n",
    "    free_df['duration'],\n",
    "    equal_var=True,\n",
    "    alternative='greater'\n",
    ")\n",
    "alpha = 0.05\n",
    "\n",
    "print('p-значение:', results.pvalue)\n",
    "\n",
    "if results.pvalue < alpha:\n",
    "    print('Отвергаем нулевую гипотезу')\n",
    "else:\n",
    "    print('Не получилось отвергнуть нулевую гипотезу')"
   ]
  },
  {
   "cell_type": "markdown",
   "id": "775721a0",
   "metadata": {},
   "source": [
    "**Вывод:**"
   ]
  },
  {
   "cell_type": "markdown",
   "id": "8d975158",
   "metadata": {},
   "source": [
    "Нулевая гипотеза отвергнута, при принятом пороге 5%, можно считать, что средняя продолжительность поездки с подпиской больше поездки без подписки"
   ]
  },
  {
   "cell_type": "markdown",
   "id": "da85c9da",
   "metadata": {},
   "source": [
    "**6.2** Проверка гипотезы: Можно ли сказать, что среднее расстояние, которое проезжают пользователи с подпиской за одну поездку, не превышает 3130 метров?"
   ]
  },
  {
   "cell_type": "markdown",
   "id": "fe5d9e7a",
   "metadata": {},
   "source": [
    "Выдвинем гипотезы:"
   ]
  },
  {
   "cell_type": "markdown",
   "id": "9acc4a51",
   "metadata": {},
   "source": [
    "H0: Среднее растояние поездок с подпиской равно 3130 метров\n",
    "\n",
    "H1: Среднее растояние поездок с подпиской превышает 3130 метров"
   ]
  },
  {
   "cell_type": "code",
   "execution_count": 59,
   "id": "d6ac3b45",
   "metadata": {},
   "outputs": [
    {
     "name": "stdout",
     "output_type": "stream",
     "text": [
      "p-значение: 0.9195362605842414\n",
      "Не получилось отвергнуть нулевую гипотезу\n"
     ]
    }
   ],
   "source": [
    "distance = 3130\n",
    "\n",
    "results = st.ttest_1samp(\n",
    "    ultra_df['distance'],\n",
    "    distance,\n",
    "    alternative='greater'\n",
    ")\n",
    "\n",
    "alpha = 0.05\n",
    "\n",
    "print('p-значение:', results.pvalue)\n",
    "\n",
    "if results.pvalue < alpha:\n",
    "    print('Отвергаем нулевую гипотезу')\n",
    "else:\n",
    "    print('Не получилось отвергнуть нулевую гипотезу')"
   ]
  },
  {
   "cell_type": "markdown",
   "id": "1e7bd963",
   "metadata": {},
   "source": [
    "**Вывод:**"
   ]
  },
  {
   "cell_type": "markdown",
   "id": "be8ca86c",
   "metadata": {},
   "source": [
    "Не получилось отвергнуть нулевую гипотезу, при принятом пороге 5%, можно считать, что среднее расстояние, которое проезжают пользователи с подпиской за одну поездку, не превышает оптимального с точки зрения износа самоката расстояния - 3130 метров"
   ]
  },
  {
   "cell_type": "markdown",
   "id": "da65481d",
   "metadata": {},
   "source": [
    "**6.3** Проверка гипотезы о том, будет ли помесячная выручка от пользователей с подпиской по месяцам выше, чем выручка от пользователей без подписки."
   ]
  },
  {
   "cell_type": "markdown",
   "id": "2484cc77",
   "metadata": {},
   "source": [
    "Выдвинем гипотезы:"
   ]
  },
  {
   "cell_type": "markdown",
   "id": "72aa5163",
   "metadata": {},
   "source": [
    "H0: Помесячная выручка от пользователей с подпиской по месяцам равна выручке от пользователей без подписки\n",
    "\n",
    "H1: Помесячная выручка от пользователей с подпиской по месяцам выше, чем выручка от пользователей без подписки"
   ]
  },
  {
   "cell_type": "code",
   "execution_count": 60,
   "id": "e46af3a6",
   "metadata": {},
   "outputs": [
    {
     "name": "stdout",
     "output_type": "stream",
     "text": [
      "p-значение: 1.8850394384715216e-31\n",
      "Отвергаем нулевую гипотезу\n"
     ]
    }
   ],
   "source": [
    "results = st.ttest_ind(\n",
    "    users_month_profit.loc[users_month_profit['subscription_fee'] > 0, 'profit'],\n",
    "    users_month_profit.loc[users_month_profit['subscription_fee'] == 0, 'profit'],\n",
    "    equal_var=True,\n",
    "    alternative='greater'\n",
    ")\n",
    "alpha = 0.05\n",
    "\n",
    "print('p-значение:', results.pvalue)\n",
    "\n",
    "if results.pvalue < alpha:\n",
    "    print('Отвергаем нулевую гипотезу')\n",
    "else:\n",
    "    print('Не получилось отвергнуть нулевую гипотезу')"
   ]
  },
  {
   "cell_type": "markdown",
   "id": "09b7d853",
   "metadata": {},
   "source": [
    "**Вывод:**"
   ]
  },
  {
   "cell_type": "markdown",
   "id": "eb885149",
   "metadata": {},
   "source": [
    "Нулевая гипотеза отвергнута, при принятом пороге 5%, можно считать, что помесячная выручка от пользователей с подпиской по месяцам выше, чем выручка от пользователей без подписки"
   ]
  },
  {
   "cell_type": "markdown",
   "id": "f23f0865",
   "metadata": {},
   "source": [
    "**6.4** Проверка гипотезы: Представьте такую ситуацию: техническая команда сервиса обновила сервера, с которыми взаимодействует мобильное приложение. Она надеется, что из-за этого количество обращений в техподдержку значимо снизилось. Некоторый файл содержит для каждого пользователя данные о количестве обращений до обновления и после него."
   ]
  },
  {
   "cell_type": "markdown",
   "id": "0214ae8e",
   "metadata": {},
   "source": [
    "**Вывод:**"
   ]
  },
  {
   "cell_type": "markdown",
   "id": "47fbc0a6",
   "metadata": {},
   "source": [
    "В данном случае лучше использовать scipy.stats.ttest_rel(), так как у нас парные (зависимые) выборки - количество обращений до и после обновления серверов для каждого пользователя. Этот тест проверяет, произошло ли статически значимое изменение среднего числа обращений, и обладает большей мощностью по сравнению с непараметрическими альтернативами при нормальном распределении данных."
   ]
  },
  {
   "cell_type": "markdown",
   "id": "a7d4a973",
   "metadata": {},
   "source": [
    "**ВЫВОД:**"
   ]
  },
  {
   "cell_type": "markdown",
   "id": "23396e6d",
   "metadata": {},
   "source": [
    "В ходе проверки гипотез, были сделаны следующие выводы:\n",
    "- Нулевая гипотеза отвергнута, при принятом пороге 5%, можно считать, что средняя продолжительность поездки с подпиской больше поездки без подписки;\n",
    "- Не получилось отвергнуть нулевую гипотезу, при принятом пороге 5%, можно считать, что среднее расстояние, которое проезжают пользователи с подпиской за одну поездку, не превышает оптимального с точки зрения износа самоката расстояния - 3130 метров;\n",
    "- Нулевая гипотеза отвергнута, при принятом пороге 5%, можно считать, что помесячная выручка от пользователей с подпиской по месяцам выше, чем выручка от пользователей без подписки;\n",
    "- В данном случае лучше использовать scipy.stats.ttest_rel(), так как у нас парные (зависимые) выборки - количество обращений до и после обновления серверов для каждого пользователя. Этот тест проверяет, произошло ли статически значимое изменение среднего числа обращений, и обладает большей мощностью по сравнению с непараметрическими альтернативами при нормальном распределении данных."
   ]
  },
  {
   "cell_type": "markdown",
   "id": "4a439668",
   "metadata": {},
   "source": [
    "---"
   ]
  },
  {
   "cell_type": "markdown",
   "id": "61213c5e",
   "metadata": {},
   "source": [
    "#### Шаг 7. Распределения"
   ]
  },
  {
   "cell_type": "markdown",
   "id": "c811bfd5",
   "metadata": {},
   "source": [
    "---"
   ]
  },
  {
   "cell_type": "markdown",
   "id": "f8935b05",
   "metadata": {},
   "source": [
    "**ВЫВОД:**"
   ]
  },
  {
   "cell_type": "markdown",
   "id": "cd4c39a6",
   "metadata": {},
   "source": [
    "В ходе выполнения проекта \"Статистический анализ данных\", было выполнено и сделаны следующие выводы:\n",
    "\n",
    "1. Загрузка данных\n",
    "- Датафрейм 'users_df': 1565 записи, пропусков нет, 31 явный дуликат;\n",
    "- Датафрейм 'rides_df': 18068 записи, пропусков нет, явных дубликатов нет, некорректный тип данных для столбца 'date';\n",
    "- Датафрейм 'subscriptions_df': 2 записи, пропусков нет, явных дубликатов нет;\n",
    "\n",
    "2. Предобработка данных\n",
    "- В датафрейме 'users_df':\n",
    "    - Удалены дубликаты.\n",
    "- В датафрейме 'rides_df':\n",
    "    - Округлены значения в столбце 'distance' до сотых;\n",
    "    - Округлены значения в столбце 'duration' до целого, приведены к типы данных 'int';\n",
    "    - Приведены значения в столбце 'date' к типу даты pandas;\n",
    "    - Создан новый столбец с номером месяца на основе столбца 'date'.\n",
    "- В датафрейме 'subscriptions_df' изменения не проводились\n",
    "\n",
    "3. Исследовательский анализ данных\n",
    "- Больше всего пользователей из Пятигорска и Екатеринбурга - больше 200,в Ростове-на-Дону, Краснодаре, Сочи, Омске, Тюмене - от 180 до 198. Самый низкий показатель в Москве.\n",
    "- Пользователей без подписки (free) - 54.4%, пользователей с подпиской ultra - 45.6%.\n",
    "- Медианный возраст пользователей - 25 лет, это значит, что половина моложе 25 лет и половина - старше. Межквартильный размах показывает, что 50% пользователей в возрасте от 22 до 28 лет. Также, есть аномальные значения - минимальный возраст клиентов составляет 12 лет.\n",
    "- По диаграмме размаха видно, что количество аномальных данных довольно большое. Среднее проезжаемое расстояние - 3070.65 метров, медианное - 3133.61 метра. Половина клиентов проезжают от 2543 до 3776 метров за одну поездку. Удалять аномальные данные нельзя, потому что их слишком много (поездки до 800 метров и поездки свыше 5700 метров).\n",
    "- Самая короткая поездка составляет 1 минуту, самая долгая - 41 минуту. По диаграмме видно, что чаще всего поездки от 10 до 27 минут. Средняя продолжительность - 18.3 минуты, медианное - 18 метра. Половина клиентов пользуются самокатом от 14 до 22 минут за одну поездку. Аномальные значения: поездки до 3 минут и свыше 34. Аномальные значения так же не нужно удалять.\n",
    "\t\n",
    "4. Объединение данных\n",
    "- Создан новый датафрейм, объединящий три изначальных датафрейма: users_df, rides_df, subscriptions_df, который имеет 18068, пустых значений и дубликатов нет.\n",
    "-  Созданы еще два датафрейма из нового датафрейма: c данными о пользователях без подписки и с данными о пользователях с подпиской.\n",
    "- Выявлена зависимость от наличия подписки: подписка влияет на расстояние и длительность поездок. У пользователей без подписки есть аномально короткие по времени и расстоянию поездки. Средние и медианные значения больше у пользователей с подпиской. По минимальным значения длительности и расстояния такая же зависимость.\n",
    "\n",
    "\n",
    "5. Подсчёт выручки\n",
    "- Создан датафрейм с агрегированными данными о поездках на основе датафрейма с объединёнными данными из шага 4.\n",
    "- Найдены суммарное расстояние, количество поездок и суммарное время для каждого пользователя за каждый месяц.\n",
    "- Добавлен в этот же датафрейм столбец с помесячной выручкой, которую принёс каждый пользователь.\n",
    "- Выручка сервиса составила 3 878 641 руб.\n",
    "\n",
    "\n",
    "6. Проверка гипотез\n",
    "- Нулевая гипотеза отвергнута, при принятом пороге 5%, можно считать, что средняя продолжительность поездки с подпиской больше поездки без подписки.\n",
    "- Не получилось отвергнуть нулевую гипотезу, при принятом пороге 5%, можно считать, что среднее расстояние, которое проезжают пользователи с подпиской за одну поездку, не превышает оптимального с точки зрения износа самоката расстояния - 3130 метров.\n",
    "- Нулевая гипотеза отвергнута, при принятом пороге 5%, можно считать, что помесячная выручка от пользователей с подпиской по месяцам выше, чем выручка от пользователей без подписки.\n",
    "- В данном случае лучше использовать scipy.stats.ttest_rel(), так как у нас парные (зависимые) выборки - количество обращений до и после обновления серверов для каждого пользователя. Этот тест проверяет, произошло ли статически значимое изменение среднего числа обращений, и обладает большей мощностью по сравнению с непараметрическими альтернативами при нормальном распределении данных.\n",
    "\n",
    "\n",
    "\n"
   ]
  }
 ],
 "metadata": {
  "ExecuteTimeLog": [
   {
    "duration": 1448,
    "start_time": "2025-02-18T14:19:20.621Z"
   },
   {
    "duration": 63,
    "start_time": "2025-02-18T14:21:22.605Z"
   },
   {
    "duration": 21,
    "start_time": "2025-02-18T14:23:43.132Z"
   },
   {
    "duration": 9,
    "start_time": "2025-02-18T14:23:56.404Z"
   },
   {
    "duration": 8,
    "start_time": "2025-02-18T14:23:56.731Z"
   },
   {
    "duration": 8,
    "start_time": "2025-02-18T14:25:28.052Z"
   },
   {
    "duration": 9,
    "start_time": "2025-02-18T14:25:52.125Z"
   },
   {
    "duration": 7,
    "start_time": "2025-02-18T14:25:56.974Z"
   },
   {
    "duration": 12,
    "start_time": "2025-02-18T14:26:12.436Z"
   },
   {
    "duration": 177,
    "start_time": "2025-02-18T14:27:06.127Z"
   },
   {
    "duration": 15,
    "start_time": "2025-02-18T14:28:48.431Z"
   },
   {
    "duration": 8,
    "start_time": "2025-02-18T14:28:48.903Z"
   },
   {
    "duration": 11,
    "start_time": "2025-02-18T14:28:49.183Z"
   },
   {
    "duration": 10,
    "start_time": "2025-02-18T14:28:51.111Z"
   },
   {
    "duration": 6,
    "start_time": "2025-02-18T14:28:51.303Z"
   },
   {
    "duration": 6,
    "start_time": "2025-02-18T14:28:51.650Z"
   },
   {
    "duration": 101,
    "start_time": "2025-02-18T15:23:28.739Z"
   },
   {
    "duration": 6,
    "start_time": "2025-02-18T15:24:43.147Z"
   },
   {
    "duration": 9,
    "start_time": "2025-02-18T15:24:54.136Z"
   },
   {
    "duration": 9,
    "start_time": "2025-02-18T15:24:57.466Z"
   },
   {
    "duration": 135,
    "start_time": "2025-02-18T15:25:33.081Z"
   },
   {
    "duration": 5,
    "start_time": "2025-02-18T15:25:41.650Z"
   },
   {
    "duration": 10,
    "start_time": "2025-02-18T15:27:34.553Z"
   },
   {
    "duration": 10,
    "start_time": "2025-02-18T15:30:29.706Z"
   },
   {
    "duration": 71,
    "start_time": "2025-02-18T15:30:39.170Z"
   },
   {
    "duration": 10,
    "start_time": "2025-02-18T15:30:41.905Z"
   },
   {
    "duration": 10,
    "start_time": "2025-02-18T15:30:45.137Z"
   },
   {
    "duration": 9,
    "start_time": "2025-02-18T15:30:48.498Z"
   },
   {
    "duration": 13,
    "start_time": "2025-02-18T15:30:56.003Z"
   },
   {
    "duration": 7,
    "start_time": "2025-02-18T15:30:58.954Z"
   },
   {
    "duration": 8,
    "start_time": "2025-02-18T15:31:01.304Z"
   },
   {
    "duration": 14,
    "start_time": "2025-02-18T15:31:06.840Z"
   },
   {
    "duration": 9,
    "start_time": "2025-02-18T15:31:10.289Z"
   },
   {
    "duration": 13,
    "start_time": "2025-02-18T15:31:12.625Z"
   },
   {
    "duration": 11,
    "start_time": "2025-02-18T15:31:18.825Z"
   },
   {
    "duration": 6,
    "start_time": "2025-02-18T15:31:21.425Z"
   },
   {
    "duration": 6,
    "start_time": "2025-02-18T15:31:24.041Z"
   },
   {
    "duration": 6,
    "start_time": "2025-02-18T15:31:38.218Z"
   },
   {
    "duration": 7,
    "start_time": "2025-02-18T15:31:42.777Z"
   },
   {
    "duration": 9,
    "start_time": "2025-02-18T15:31:45.161Z"
   },
   {
    "duration": 3,
    "start_time": "2025-02-18T15:33:25.490Z"
   },
   {
    "duration": 5,
    "start_time": "2025-02-18T15:33:34.009Z"
   },
   {
    "duration": 4,
    "start_time": "2025-02-18T15:34:01.319Z"
   },
   {
    "duration": 15,
    "start_time": "2025-02-18T15:36:43.084Z"
   },
   {
    "duration": 15,
    "start_time": "2025-02-18T15:37:09.276Z"
   },
   {
    "duration": 14,
    "start_time": "2025-02-18T15:37:23.221Z"
   },
   {
    "duration": 14,
    "start_time": "2025-02-18T15:38:05.309Z"
   },
   {
    "duration": 8,
    "start_time": "2025-02-18T15:38:09.213Z"
   },
   {
    "duration": 6,
    "start_time": "2025-02-18T15:38:10.683Z"
   },
   {
    "duration": 10,
    "start_time": "2025-02-18T15:38:26.647Z"
   },
   {
    "duration": 13,
    "start_time": "2025-02-18T15:38:35.716Z"
   },
   {
    "duration": 25,
    "start_time": "2025-02-18T15:48:33.841Z"
   },
   {
    "duration": 181,
    "start_time": "2025-02-18T15:48:39.809Z"
   },
   {
    "duration": 198,
    "start_time": "2025-02-18T15:48:45.305Z"
   },
   {
    "duration": 213,
    "start_time": "2025-02-18T15:48:58.344Z"
   },
   {
    "duration": 205,
    "start_time": "2025-02-18T15:49:16.327Z"
   },
   {
    "duration": 210,
    "start_time": "2025-02-18T15:50:07.025Z"
   },
   {
    "duration": 233,
    "start_time": "2025-02-18T15:50:39.000Z"
   },
   {
    "duration": 14,
    "start_time": "2025-02-18T15:51:51.343Z"
   },
   {
    "duration": 208,
    "start_time": "2025-02-18T15:52:56.225Z"
   },
   {
    "duration": 14,
    "start_time": "2025-02-18T15:53:06.929Z"
   },
   {
    "duration": 12,
    "start_time": "2025-02-18T15:57:32.507Z"
   },
   {
    "duration": 18,
    "start_time": "2025-02-18T15:57:36.923Z"
   },
   {
    "duration": 185,
    "start_time": "2025-02-18T15:58:06.170Z"
   },
   {
    "duration": 196,
    "start_time": "2025-02-18T15:58:24.666Z"
   },
   {
    "duration": 251,
    "start_time": "2025-02-18T15:58:28.795Z"
   },
   {
    "duration": 165,
    "start_time": "2025-02-18T15:58:38.368Z"
   },
   {
    "duration": 169,
    "start_time": "2025-02-18T15:58:42.054Z"
   },
   {
    "duration": 142,
    "start_time": "2025-02-18T15:59:22.537Z"
   },
   {
    "duration": 182,
    "start_time": "2025-02-18T15:59:33.161Z"
   },
   {
    "duration": 188,
    "start_time": "2025-02-18T16:00:35.033Z"
   },
   {
    "duration": 163,
    "start_time": "2025-02-18T16:01:31.274Z"
   },
   {
    "duration": 206,
    "start_time": "2025-02-18T16:01:34.363Z"
   },
   {
    "duration": 204,
    "start_time": "2025-02-18T16:01:36.211Z"
   },
   {
    "duration": 192,
    "start_time": "2025-02-18T16:01:45.889Z"
   },
   {
    "duration": 14,
    "start_time": "2025-02-18T16:02:02.369Z"
   },
   {
    "duration": 181,
    "start_time": "2025-02-18T16:02:05.928Z"
   },
   {
    "duration": 188,
    "start_time": "2025-02-18T16:02:11.569Z"
   },
   {
    "duration": 186,
    "start_time": "2025-02-18T16:02:15.106Z"
   },
   {
    "duration": 1171,
    "start_time": "2025-02-18T16:02:32.688Z"
   },
   {
    "duration": 64,
    "start_time": "2025-02-18T16:02:33.861Z"
   },
   {
    "duration": 13,
    "start_time": "2025-02-18T16:02:33.926Z"
   },
   {
    "duration": 62,
    "start_time": "2025-02-18T16:02:33.940Z"
   },
   {
    "duration": 29,
    "start_time": "2025-02-18T16:02:34.004Z"
   },
   {
    "duration": 57,
    "start_time": "2025-02-18T16:02:34.035Z"
   },
   {
    "duration": 29,
    "start_time": "2025-02-18T16:02:34.093Z"
   },
   {
    "duration": 23,
    "start_time": "2025-02-18T16:02:34.124Z"
   },
   {
    "duration": 19,
    "start_time": "2025-02-18T16:02:34.148Z"
   },
   {
    "duration": 21,
    "start_time": "2025-02-18T16:02:34.169Z"
   },
   {
    "duration": 40,
    "start_time": "2025-02-18T16:02:34.192Z"
   },
   {
    "duration": 11,
    "start_time": "2025-02-18T16:02:34.234Z"
   },
   {
    "duration": 30,
    "start_time": "2025-02-18T16:02:34.247Z"
   },
   {
    "duration": 15,
    "start_time": "2025-02-18T16:02:34.280Z"
   },
   {
    "duration": 57,
    "start_time": "2025-02-18T16:02:34.297Z"
   },
   {
    "duration": 158,
    "start_time": "2025-02-18T16:02:34.356Z"
   },
   {
    "duration": 48,
    "start_time": "2025-02-18T16:02:34.516Z"
   },
   {
    "duration": 23,
    "start_time": "2025-02-18T16:02:34.565Z"
   },
   {
    "duration": 29,
    "start_time": "2025-02-18T16:02:34.589Z"
   },
   {
    "duration": 13,
    "start_time": "2025-02-18T16:02:34.619Z"
   },
   {
    "duration": 104,
    "start_time": "2025-02-18T16:02:34.633Z"
   },
   {
    "duration": 53,
    "start_time": "2025-02-18T16:02:34.739Z"
   },
   {
    "duration": 51,
    "start_time": "2025-02-18T16:02:34.794Z"
   },
   {
    "duration": 235,
    "start_time": "2025-02-18T16:02:34.847Z"
   },
   {
    "duration": 13,
    "start_time": "2025-02-18T16:02:35.084Z"
   },
   {
    "duration": 263,
    "start_time": "2025-02-18T16:02:35.099Z"
   },
   {
    "duration": 4,
    "start_time": "2025-02-18T16:05:40.852Z"
   },
   {
    "duration": 196,
    "start_time": "2025-02-18T16:06:30.309Z"
   },
   {
    "duration": 196,
    "start_time": "2025-02-18T16:06:53.095Z"
   },
   {
    "duration": 245,
    "start_time": "2025-02-18T16:07:07.554Z"
   },
   {
    "duration": 174,
    "start_time": "2025-02-18T16:07:11.107Z"
   },
   {
    "duration": 201,
    "start_time": "2025-02-18T16:07:15.990Z"
   },
   {
    "duration": 220,
    "start_time": "2025-02-18T16:08:17.188Z"
   },
   {
    "duration": 206,
    "start_time": "2025-02-18T16:08:29.172Z"
   },
   {
    "duration": 296,
    "start_time": "2025-02-18T16:08:39.852Z"
   },
   {
    "duration": 205,
    "start_time": "2025-02-18T16:08:43.924Z"
   },
   {
    "duration": 207,
    "start_time": "2025-02-18T16:08:54.236Z"
   },
   {
    "duration": 200,
    "start_time": "2025-02-18T16:09:02.155Z"
   },
   {
    "duration": 191,
    "start_time": "2025-02-18T16:09:08.537Z"
   },
   {
    "duration": 214,
    "start_time": "2025-02-18T16:09:15.522Z"
   },
   {
    "duration": 134,
    "start_time": "2025-02-18T16:09:59.403Z"
   },
   {
    "duration": 8,
    "start_time": "2025-02-18T16:10:13.978Z"
   },
   {
    "duration": 106,
    "start_time": "2025-02-18T16:11:08.571Z"
   },
   {
    "duration": 215,
    "start_time": "2025-02-18T16:12:01.170Z"
   },
   {
    "duration": 9,
    "start_time": "2025-02-18T16:12:01.704Z"
   },
   {
    "duration": 253,
    "start_time": "2025-02-18T16:12:02.425Z"
   },
   {
    "duration": 245,
    "start_time": "2025-02-18T16:12:10.785Z"
   },
   {
    "duration": 140,
    "start_time": "2025-02-18T16:12:26.284Z"
   },
   {
    "duration": 350,
    "start_time": "2025-02-18T16:12:37.265Z"
   },
   {
    "duration": 195,
    "start_time": "2025-02-18T16:12:40.747Z"
   },
   {
    "duration": 208,
    "start_time": "2025-02-18T16:12:45.513Z"
   },
   {
    "duration": 298,
    "start_time": "2025-02-18T16:16:38.720Z"
   },
   {
    "duration": 1601,
    "start_time": "2025-02-18T16:16:43.360Z"
   },
   {
    "duration": 618,
    "start_time": "2025-02-18T16:16:49.600Z"
   },
   {
    "duration": 933,
    "start_time": "2025-02-18T16:16:59.817Z"
   },
   {
    "duration": 891,
    "start_time": "2025-02-18T16:17:07.880Z"
   },
   {
    "duration": 656,
    "start_time": "2025-02-18T16:17:11.994Z"
   },
   {
    "duration": 9,
    "start_time": "2025-02-18T16:17:39.970Z"
   },
   {
    "duration": 711,
    "start_time": "2025-02-18T16:17:56.042Z"
   },
   {
    "duration": 876,
    "start_time": "2025-02-18T16:19:00.960Z"
   },
   {
    "duration": 672,
    "start_time": "2025-02-18T16:19:12.424Z"
   },
   {
    "duration": 180,
    "start_time": "2025-02-18T16:19:22.304Z"
   },
   {
    "duration": 876,
    "start_time": "2025-02-18T16:19:26.129Z"
   },
   {
    "duration": 860,
    "start_time": "2025-02-18T16:19:36.281Z"
   },
   {
    "duration": 1157,
    "start_time": "2025-02-18T16:19:45.167Z"
   },
   {
    "duration": 902,
    "start_time": "2025-02-18T16:19:50.384Z"
   },
   {
    "duration": 1113,
    "start_time": "2025-02-18T16:19:57.201Z"
   },
   {
    "duration": 7,
    "start_time": "2025-02-18T16:20:20.833Z"
   },
   {
    "duration": 142,
    "start_time": "2025-02-18T16:20:27.832Z"
   },
   {
    "duration": 166,
    "start_time": "2025-02-18T16:20:38.272Z"
   },
   {
    "duration": 189,
    "start_time": "2025-02-18T16:20:41.331Z"
   },
   {
    "duration": 211,
    "start_time": "2025-02-18T16:20:49.679Z"
   },
   {
    "duration": 105,
    "start_time": "2025-02-18T16:21:18.008Z"
   },
   {
    "duration": 148,
    "start_time": "2025-02-18T16:21:24.024Z"
   },
   {
    "duration": 144,
    "start_time": "2025-02-18T16:21:50.888Z"
   },
   {
    "duration": 175,
    "start_time": "2025-02-18T16:21:58.671Z"
   },
   {
    "duration": 176,
    "start_time": "2025-02-18T16:22:12.559Z"
   },
   {
    "duration": 11,
    "start_time": "2025-02-18T16:47:37.789Z"
   },
   {
    "duration": 208,
    "start_time": "2025-02-18T16:48:27.929Z"
   },
   {
    "duration": 2368,
    "start_time": "2025-02-18T16:49:02.837Z"
   },
   {
    "duration": 239,
    "start_time": "2025-02-18T16:49:14.541Z"
   },
   {
    "duration": 224,
    "start_time": "2025-02-18T16:49:40.284Z"
   },
   {
    "duration": 167,
    "start_time": "2025-02-18T16:50:45.421Z"
   },
   {
    "duration": 170,
    "start_time": "2025-02-18T16:51:16.837Z"
   },
   {
    "duration": 185,
    "start_time": "2025-02-18T17:06:35.934Z"
   },
   {
    "duration": 14,
    "start_time": "2025-02-18T17:16:16.168Z"
   },
   {
    "duration": 11,
    "start_time": "2025-02-18T17:16:22.734Z"
   },
   {
    "duration": 9,
    "start_time": "2025-02-18T17:16:52.676Z"
   },
   {
    "duration": 10,
    "start_time": "2025-02-18T17:17:14.663Z"
   },
   {
    "duration": 3,
    "start_time": "2025-02-18T17:18:48.181Z"
   },
   {
    "duration": 10,
    "start_time": "2025-02-18T17:18:56.968Z"
   },
   {
    "duration": 7,
    "start_time": "2025-02-18T17:19:00.376Z"
   },
   {
    "duration": 7,
    "start_time": "2025-02-18T17:19:38.850Z"
   },
   {
    "duration": 15,
    "start_time": "2025-02-18T17:20:01.618Z"
   },
   {
    "duration": 4,
    "start_time": "2025-02-18T17:20:15.489Z"
   },
   {
    "duration": 13,
    "start_time": "2025-02-18T17:20:16.545Z"
   },
   {
    "duration": 3,
    "start_time": "2025-02-18T17:20:19.305Z"
   },
   {
    "duration": 7,
    "start_time": "2025-02-18T17:20:26.231Z"
   },
   {
    "duration": 308,
    "start_time": "2025-02-18T17:21:01.257Z"
   },
   {
    "duration": 21,
    "start_time": "2025-02-18T17:21:05.657Z"
   },
   {
    "duration": 14,
    "start_time": "2025-02-18T17:21:11.018Z"
   },
   {
    "duration": 23,
    "start_time": "2025-02-18T17:21:16.296Z"
   },
   {
    "duration": 13,
    "start_time": "2025-02-18T17:21:16.728Z"
   },
   {
    "duration": 16,
    "start_time": "2025-02-18T17:21:29.984Z"
   },
   {
    "duration": 13,
    "start_time": "2025-02-18T17:21:31.032Z"
   },
   {
    "duration": 3,
    "start_time": "2025-02-18T17:21:57.634Z"
   },
   {
    "duration": 20,
    "start_time": "2025-02-18T17:21:58.378Z"
   },
   {
    "duration": 13,
    "start_time": "2025-02-18T17:21:58.804Z"
   },
   {
    "duration": 18,
    "start_time": "2025-02-18T17:22:01.443Z"
   },
   {
    "duration": 18,
    "start_time": "2025-02-18T17:22:22.954Z"
   },
   {
    "duration": 18,
    "start_time": "2025-02-18T17:22:23.131Z"
   },
   {
    "duration": 16,
    "start_time": "2025-02-18T17:22:43.852Z"
   },
   {
    "duration": 13,
    "start_time": "2025-02-18T17:25:59.485Z"
   },
   {
    "duration": 11,
    "start_time": "2025-02-18T17:26:03.732Z"
   },
   {
    "duration": 19,
    "start_time": "2025-02-18T17:26:17.460Z"
   },
   {
    "duration": 133,
    "start_time": "2025-02-18T17:27:28.925Z"
   },
   {
    "duration": 139,
    "start_time": "2025-02-18T17:27:29.597Z"
   },
   {
    "duration": 9,
    "start_time": "2025-02-18T17:27:56.030Z"
   },
   {
    "duration": 6,
    "start_time": "2025-02-18T17:28:03.830Z"
   },
   {
    "duration": 7,
    "start_time": "2025-02-18T17:28:16.973Z"
   },
   {
    "duration": 13,
    "start_time": "2025-02-18T17:28:17.237Z"
   },
   {
    "duration": 6,
    "start_time": "2025-02-18T17:28:17.396Z"
   },
   {
    "duration": 13,
    "start_time": "2025-02-18T17:28:17.572Z"
   },
   {
    "duration": 13,
    "start_time": "2025-02-18T17:31:03.960Z"
   },
   {
    "duration": 16,
    "start_time": "2025-02-18T17:31:05.575Z"
   },
   {
    "duration": 433,
    "start_time": "2025-02-18T17:33:07.767Z"
   },
   {
    "duration": 708,
    "start_time": "2025-02-18T17:33:10.295Z"
   },
   {
    "duration": 431,
    "start_time": "2025-02-18T17:33:36.225Z"
   },
   {
    "duration": 430,
    "start_time": "2025-02-18T17:33:50.591Z"
   },
   {
    "duration": 429,
    "start_time": "2025-02-18T17:34:06.101Z"
   },
   {
    "duration": 435,
    "start_time": "2025-02-18T17:34:11.893Z"
   },
   {
    "duration": 723,
    "start_time": "2025-02-18T17:34:48.105Z"
   },
   {
    "duration": 454,
    "start_time": "2025-02-18T17:35:03.785Z"
   },
   {
    "duration": 331,
    "start_time": "2025-02-18T17:35:08.131Z"
   },
   {
    "duration": 293,
    "start_time": "2025-02-18T17:35:11.583Z"
   },
   {
    "duration": 135,
    "start_time": "2025-02-18T17:38:02.857Z"
   },
   {
    "duration": 128,
    "start_time": "2025-02-18T17:38:03.448Z"
   },
   {
    "duration": 12,
    "start_time": "2025-02-18T17:38:11.172Z"
   },
   {
    "duration": 11,
    "start_time": "2025-02-18T17:38:11.736Z"
   },
   {
    "duration": 144,
    "start_time": "2025-02-18T17:53:25.862Z"
   },
   {
    "duration": 155,
    "start_time": "2025-02-18T17:54:05.848Z"
   },
   {
    "duration": 159,
    "start_time": "2025-02-18T17:54:16.178Z"
   },
   {
    "duration": 139,
    "start_time": "2025-02-18T17:54:35.151Z"
   },
   {
    "duration": 139,
    "start_time": "2025-02-18T17:54:41.183Z"
   },
   {
    "duration": 148,
    "start_time": "2025-02-18T17:55:40.918Z"
   },
   {
    "duration": 11,
    "start_time": "2025-02-18T17:56:12.620Z"
   },
   {
    "duration": 42,
    "start_time": "2025-02-18T17:56:28.639Z"
   },
   {
    "duration": 5,
    "start_time": "2025-02-18T17:57:07.802Z"
   },
   {
    "duration": 11,
    "start_time": "2025-02-18T17:57:14.574Z"
   },
   {
    "duration": 44,
    "start_time": "2025-02-18T17:58:32.521Z"
   },
   {
    "duration": 16,
    "start_time": "2025-02-18T17:58:36.519Z"
   },
   {
    "duration": 12,
    "start_time": "2025-02-18T17:58:58.321Z"
   },
   {
    "duration": 2,
    "start_time": "2025-02-18T18:01:36.375Z"
   },
   {
    "duration": 3,
    "start_time": "2025-02-18T18:02:00.468Z"
   },
   {
    "duration": 15,
    "start_time": "2025-02-18T18:02:38.346Z"
   },
   {
    "duration": 2559,
    "start_time": "2025-02-18T18:03:41.446Z"
   },
   {
    "duration": 0,
    "start_time": "2025-02-18T18:03:44.007Z"
   },
   {
    "duration": 10,
    "start_time": "2025-02-18T18:05:05.933Z"
   },
   {
    "duration": 1289,
    "start_time": "2025-02-18T18:05:42.328Z"
   },
   {
    "duration": 64,
    "start_time": "2025-02-18T18:05:43.619Z"
   },
   {
    "duration": 13,
    "start_time": "2025-02-18T18:05:43.685Z"
   },
   {
    "duration": 10,
    "start_time": "2025-02-18T18:05:43.700Z"
   },
   {
    "duration": 8,
    "start_time": "2025-02-18T18:05:43.712Z"
   },
   {
    "duration": 18,
    "start_time": "2025-02-18T18:05:43.721Z"
   },
   {
    "duration": 20,
    "start_time": "2025-02-18T18:05:43.740Z"
   },
   {
    "duration": 9,
    "start_time": "2025-02-18T18:05:43.761Z"
   },
   {
    "duration": 13,
    "start_time": "2025-02-18T18:05:43.772Z"
   },
   {
    "duration": 41,
    "start_time": "2025-02-18T18:05:43.787Z"
   },
   {
    "duration": 18,
    "start_time": "2025-02-18T18:05:43.830Z"
   },
   {
    "duration": 11,
    "start_time": "2025-02-18T18:05:43.850Z"
   },
   {
    "duration": 10,
    "start_time": "2025-02-18T18:05:43.863Z"
   },
   {
    "duration": 19,
    "start_time": "2025-02-18T18:05:43.877Z"
   },
   {
    "duration": 6,
    "start_time": "2025-02-18T18:05:43.898Z"
   },
   {
    "duration": 6,
    "start_time": "2025-02-18T18:05:43.906Z"
   },
   {
    "duration": 49,
    "start_time": "2025-02-18T18:05:43.914Z"
   },
   {
    "duration": 19,
    "start_time": "2025-02-18T18:05:43.965Z"
   },
   {
    "duration": 22,
    "start_time": "2025-02-18T18:05:43.985Z"
   },
   {
    "duration": 8,
    "start_time": "2025-02-18T18:05:44.009Z"
   },
   {
    "duration": 5,
    "start_time": "2025-02-18T18:05:44.019Z"
   },
   {
    "duration": 23,
    "start_time": "2025-02-18T18:05:44.026Z"
   },
   {
    "duration": 19,
    "start_time": "2025-02-18T18:05:44.050Z"
   },
   {
    "duration": 225,
    "start_time": "2025-02-18T18:05:44.071Z"
   },
   {
    "duration": 14,
    "start_time": "2025-02-18T18:05:44.297Z"
   },
   {
    "duration": 201,
    "start_time": "2025-02-18T18:05:44.313Z"
   },
   {
    "duration": 247,
    "start_time": "2025-02-18T18:05:44.516Z"
   },
   {
    "duration": 10,
    "start_time": "2025-02-18T18:05:44.765Z"
   },
   {
    "duration": 163,
    "start_time": "2025-02-18T18:05:44.778Z"
   },
   {
    "duration": 18,
    "start_time": "2025-02-18T18:05:44.942Z"
   },
   {
    "duration": 939,
    "start_time": "2025-02-18T18:05:44.962Z"
   },
   {
    "duration": 173,
    "start_time": "2025-02-18T18:05:45.903Z"
   },
   {
    "duration": 9,
    "start_time": "2025-02-18T18:05:46.077Z"
   },
   {
    "duration": 262,
    "start_time": "2025-02-18T18:05:46.087Z"
   },
   {
    "duration": 184,
    "start_time": "2025-02-18T18:05:46.355Z"
   },
   {
    "duration": 23,
    "start_time": "2025-02-18T18:05:46.541Z"
   },
   {
    "duration": 19,
    "start_time": "2025-02-18T18:05:46.566Z"
   },
   {
    "duration": 18,
    "start_time": "2025-02-18T18:05:46.588Z"
   },
   {
    "duration": 14,
    "start_time": "2025-02-18T18:05:46.608Z"
   },
   {
    "duration": 38,
    "start_time": "2025-02-18T18:05:46.624Z"
   },
   {
    "duration": 8,
    "start_time": "2025-02-18T18:05:46.667Z"
   },
   {
    "duration": 24,
    "start_time": "2025-02-18T18:05:46.677Z"
   },
   {
    "duration": 13,
    "start_time": "2025-02-18T18:05:46.703Z"
   },
   {
    "duration": 10,
    "start_time": "2025-02-18T18:05:46.718Z"
   },
   {
    "duration": 35,
    "start_time": "2025-02-18T18:05:46.729Z"
   },
   {
    "duration": 13,
    "start_time": "2025-02-18T18:05:46.766Z"
   },
   {
    "duration": 466,
    "start_time": "2025-02-18T18:05:46.781Z"
   },
   {
    "duration": 338,
    "start_time": "2025-02-18T18:05:47.249Z"
   },
   {
    "duration": 11,
    "start_time": "2025-02-18T18:05:47.589Z"
   },
   {
    "duration": 41,
    "start_time": "2025-02-18T18:05:47.602Z"
   },
   {
    "duration": 41,
    "start_time": "2025-02-18T18:05:47.645Z"
   },
   {
    "duration": 3,
    "start_time": "2025-02-18T18:05:47.687Z"
   },
   {
    "duration": 30,
    "start_time": "2025-02-18T18:05:47.692Z"
   },
   {
    "duration": 17,
    "start_time": "2025-02-18T18:05:47.723Z"
   },
   {
    "duration": 102,
    "start_time": "2025-02-18T18:05:47.742Z"
   },
   {
    "duration": 0,
    "start_time": "2025-02-18T18:05:47.845Z"
   },
   {
    "duration": 6,
    "start_time": "2025-02-18T18:06:16.051Z"
   },
   {
    "duration": 11,
    "start_time": "2025-02-18T18:06:18.002Z"
   },
   {
    "duration": 5,
    "start_time": "2025-02-18T19:00:35.177Z"
   },
   {
    "duration": 87,
    "start_time": "2025-02-18T19:08:18.831Z"
   },
   {
    "duration": 5,
    "start_time": "2025-02-18T19:08:22.830Z"
   },
   {
    "duration": 4,
    "start_time": "2025-02-18T19:08:30.651Z"
   },
   {
    "duration": 2,
    "start_time": "2025-02-18T19:08:40.988Z"
   },
   {
    "duration": 5,
    "start_time": "2025-02-18T19:09:13.594Z"
   },
   {
    "duration": 4,
    "start_time": "2025-02-18T19:09:14.331Z"
   },
   {
    "duration": 6,
    "start_time": "2025-02-18T19:10:37.546Z"
   },
   {
    "duration": 4,
    "start_time": "2025-02-18T19:10:38.818Z"
   },
   {
    "duration": 6,
    "start_time": "2025-02-18T19:10:52.809Z"
   },
   {
    "duration": 6,
    "start_time": "2025-02-18T19:11:05.770Z"
   },
   {
    "duration": 5,
    "start_time": "2025-02-18T19:17:21.000Z"
   },
   {
    "duration": 11,
    "start_time": "2025-02-18T19:21:42.646Z"
   },
   {
    "duration": 9,
    "start_time": "2025-02-18T19:21:52.685Z"
   },
   {
    "duration": 9,
    "start_time": "2025-02-18T19:21:57.740Z"
   },
   {
    "duration": 9,
    "start_time": "2025-02-18T19:23:35.765Z"
   },
   {
    "duration": 1169,
    "start_time": "2025-02-18T19:42:34.072Z"
   },
   {
    "duration": 61,
    "start_time": "2025-02-18T19:42:35.243Z"
   },
   {
    "duration": 93,
    "start_time": "2025-02-18T19:42:35.306Z"
   },
   {
    "duration": 100,
    "start_time": "2025-02-18T19:42:35.400Z"
   },
   {
    "duration": 118,
    "start_time": "2025-02-18T19:42:35.502Z"
   },
   {
    "duration": 31,
    "start_time": "2025-02-18T19:42:35.622Z"
   },
   {
    "duration": 102,
    "start_time": "2025-02-18T19:42:35.654Z"
   },
   {
    "duration": 139,
    "start_time": "2025-02-18T19:42:35.758Z"
   },
   {
    "duration": 119,
    "start_time": "2025-02-18T19:42:35.898Z"
   },
   {
    "duration": 102,
    "start_time": "2025-02-18T19:42:36.019Z"
   },
   {
    "duration": 50,
    "start_time": "2025-02-18T19:42:36.123Z"
   },
   {
    "duration": 47,
    "start_time": "2025-02-18T19:42:36.174Z"
   },
   {
    "duration": 57,
    "start_time": "2025-02-18T19:42:36.222Z"
   },
   {
    "duration": 63,
    "start_time": "2025-02-18T19:42:36.284Z"
   },
   {
    "duration": 30,
    "start_time": "2025-02-18T19:42:36.349Z"
   },
   {
    "duration": 30,
    "start_time": "2025-02-18T19:42:36.380Z"
   },
   {
    "duration": 67,
    "start_time": "2025-02-18T19:42:36.411Z"
   },
   {
    "duration": 22,
    "start_time": "2025-02-18T19:42:36.480Z"
   },
   {
    "duration": 41,
    "start_time": "2025-02-18T19:42:36.504Z"
   },
   {
    "duration": 20,
    "start_time": "2025-02-18T19:42:36.547Z"
   },
   {
    "duration": 22,
    "start_time": "2025-02-18T19:42:36.569Z"
   },
   {
    "duration": 49,
    "start_time": "2025-02-18T19:42:36.593Z"
   },
   {
    "duration": 224,
    "start_time": "2025-02-18T19:42:36.644Z"
   },
   {
    "duration": 277,
    "start_time": "2025-02-18T19:42:36.870Z"
   },
   {
    "duration": 18,
    "start_time": "2025-02-18T19:42:37.149Z"
   },
   {
    "duration": 202,
    "start_time": "2025-02-18T19:42:37.169Z"
   },
   {
    "duration": 246,
    "start_time": "2025-02-18T19:42:37.373Z"
   },
   {
    "duration": 9,
    "start_time": "2025-02-18T19:42:37.621Z"
   },
   {
    "duration": 162,
    "start_time": "2025-02-18T19:42:37.631Z"
   },
   {
    "duration": 10,
    "start_time": "2025-02-18T19:42:37.795Z"
   },
   {
    "duration": 941,
    "start_time": "2025-02-18T19:42:37.806Z"
   },
   {
    "duration": 178,
    "start_time": "2025-02-18T19:42:38.749Z"
   },
   {
    "duration": 9,
    "start_time": "2025-02-18T19:42:38.929Z"
   },
   {
    "duration": 251,
    "start_time": "2025-02-18T19:42:38.939Z"
   },
   {
    "duration": 176,
    "start_time": "2025-02-18T19:42:39.192Z"
   },
   {
    "duration": 16,
    "start_time": "2025-02-18T19:42:39.370Z"
   },
   {
    "duration": 20,
    "start_time": "2025-02-18T19:42:39.387Z"
   },
   {
    "duration": 23,
    "start_time": "2025-02-18T19:42:39.408Z"
   },
   {
    "duration": 26,
    "start_time": "2025-02-18T19:42:39.433Z"
   },
   {
    "duration": 13,
    "start_time": "2025-02-18T19:42:39.461Z"
   },
   {
    "duration": 8,
    "start_time": "2025-02-18T19:42:39.478Z"
   },
   {
    "duration": 21,
    "start_time": "2025-02-18T19:42:39.487Z"
   },
   {
    "duration": 12,
    "start_time": "2025-02-18T19:42:39.510Z"
   },
   {
    "duration": 33,
    "start_time": "2025-02-18T19:42:39.523Z"
   },
   {
    "duration": 13,
    "start_time": "2025-02-18T19:42:39.558Z"
   },
   {
    "duration": 12,
    "start_time": "2025-02-18T19:42:39.573Z"
   },
   {
    "duration": 450,
    "start_time": "2025-02-18T19:42:39.586Z"
   },
   {
    "duration": 319,
    "start_time": "2025-02-18T19:42:40.038Z"
   },
   {
    "duration": 11,
    "start_time": "2025-02-18T19:42:40.359Z"
   },
   {
    "duration": 11,
    "start_time": "2025-02-18T19:42:40.372Z"
   },
   {
    "duration": 56,
    "start_time": "2025-02-18T19:42:40.384Z"
   },
   {
    "duration": 14,
    "start_time": "2025-02-18T19:42:40.442Z"
   },
   {
    "duration": 14,
    "start_time": "2025-02-18T19:42:40.457Z"
   },
   {
    "duration": 4,
    "start_time": "2025-02-18T19:42:40.473Z"
   },
   {
    "duration": 8,
    "start_time": "2025-02-18T19:42:40.478Z"
   },
   {
    "duration": 12,
    "start_time": "2025-02-18T19:42:40.488Z"
   },
   {
    "duration": 7,
    "start_time": "2025-02-18T19:42:40.501Z"
   },
   {
    "duration": 6,
    "start_time": "2025-02-18T19:42:40.509Z"
   },
   {
    "duration": 43,
    "start_time": "2025-02-18T19:42:40.517Z"
   },
   {
    "duration": 14,
    "start_time": "2025-02-18T19:42:40.562Z"
   },
   {
    "duration": 1250,
    "start_time": "2025-02-18T20:13:21.350Z"
   },
   {
    "duration": 61,
    "start_time": "2025-02-18T20:13:22.605Z"
   },
   {
    "duration": 13,
    "start_time": "2025-02-18T20:13:22.668Z"
   },
   {
    "duration": 46,
    "start_time": "2025-02-18T20:13:22.683Z"
   },
   {
    "duration": 26,
    "start_time": "2025-02-18T20:13:22.732Z"
   },
   {
    "duration": 24,
    "start_time": "2025-02-18T20:13:22.759Z"
   },
   {
    "duration": 6,
    "start_time": "2025-02-18T20:13:22.784Z"
   },
   {
    "duration": 6,
    "start_time": "2025-02-18T20:13:22.792Z"
   },
   {
    "duration": 39,
    "start_time": "2025-02-18T20:13:22.800Z"
   },
   {
    "duration": 39,
    "start_time": "2025-02-18T20:13:22.841Z"
   },
   {
    "duration": 8,
    "start_time": "2025-02-18T20:13:22.881Z"
   },
   {
    "duration": 11,
    "start_time": "2025-02-18T20:13:22.891Z"
   },
   {
    "duration": 19,
    "start_time": "2025-02-18T20:13:22.904Z"
   },
   {
    "duration": 5,
    "start_time": "2025-02-18T20:13:22.927Z"
   },
   {
    "duration": 14,
    "start_time": "2025-02-18T20:13:22.934Z"
   },
   {
    "duration": 12,
    "start_time": "2025-02-18T20:13:22.950Z"
   },
   {
    "duration": 10,
    "start_time": "2025-02-18T20:13:22.964Z"
   },
   {
    "duration": 23,
    "start_time": "2025-02-18T20:13:22.976Z"
   },
   {
    "duration": 7,
    "start_time": "2025-02-18T20:13:23.003Z"
   },
   {
    "duration": 11,
    "start_time": "2025-02-18T20:13:23.012Z"
   },
   {
    "duration": 5,
    "start_time": "2025-02-18T20:13:23.025Z"
   },
   {
    "duration": 20,
    "start_time": "2025-02-18T20:13:23.032Z"
   },
   {
    "duration": 12,
    "start_time": "2025-02-18T20:13:23.054Z"
   },
   {
    "duration": 284,
    "start_time": "2025-02-18T20:13:23.068Z"
   },
   {
    "duration": 13,
    "start_time": "2025-02-18T20:13:23.354Z"
   },
   {
    "duration": 216,
    "start_time": "2025-02-18T20:13:23.369Z"
   },
   {
    "duration": 264,
    "start_time": "2025-02-18T20:13:23.587Z"
   },
   {
    "duration": 8,
    "start_time": "2025-02-18T20:13:23.853Z"
   },
   {
    "duration": 214,
    "start_time": "2025-02-18T20:13:23.863Z"
   },
   {
    "duration": 10,
    "start_time": "2025-02-18T20:13:24.079Z"
   },
   {
    "duration": 950,
    "start_time": "2025-02-18T20:13:24.100Z"
   },
   {
    "duration": 200,
    "start_time": "2025-02-18T20:13:25.052Z"
   },
   {
    "duration": 10,
    "start_time": "2025-02-18T20:13:25.255Z"
   },
   {
    "duration": 290,
    "start_time": "2025-02-18T20:13:25.268Z"
   },
   {
    "duration": 199,
    "start_time": "2025-02-18T20:13:25.560Z"
   },
   {
    "duration": 16,
    "start_time": "2025-02-18T20:13:25.761Z"
   },
   {
    "duration": 42,
    "start_time": "2025-02-18T20:13:25.778Z"
   },
   {
    "duration": 18,
    "start_time": "2025-02-18T20:13:25.822Z"
   },
   {
    "duration": 10,
    "start_time": "2025-02-18T20:13:25.841Z"
   },
   {
    "duration": 20,
    "start_time": "2025-02-18T20:13:25.852Z"
   },
   {
    "duration": 30,
    "start_time": "2025-02-18T20:13:25.876Z"
   },
   {
    "duration": 18,
    "start_time": "2025-02-18T20:13:25.909Z"
   },
   {
    "duration": 13,
    "start_time": "2025-02-18T20:13:25.929Z"
   },
   {
    "duration": 18,
    "start_time": "2025-02-18T20:13:25.943Z"
   },
   {
    "duration": 13,
    "start_time": "2025-02-18T20:13:25.963Z"
   },
   {
    "duration": 34,
    "start_time": "2025-02-18T20:13:25.978Z"
   },
   {
    "duration": 536,
    "start_time": "2025-02-18T20:13:26.014Z"
   },
   {
    "duration": 330,
    "start_time": "2025-02-18T20:13:26.552Z"
   },
   {
    "duration": 20,
    "start_time": "2025-02-18T20:13:26.884Z"
   },
   {
    "duration": 14,
    "start_time": "2025-02-18T20:13:26.907Z"
   },
   {
    "duration": 41,
    "start_time": "2025-02-18T20:13:26.923Z"
   },
   {
    "duration": 3,
    "start_time": "2025-02-18T20:13:26.966Z"
   },
   {
    "duration": 12,
    "start_time": "2025-02-18T20:13:26.999Z"
   },
   {
    "duration": 4,
    "start_time": "2025-02-18T20:13:27.013Z"
   },
   {
    "duration": 13,
    "start_time": "2025-02-18T20:13:27.019Z"
   },
   {
    "duration": 11,
    "start_time": "2025-02-18T20:13:27.034Z"
   },
   {
    "duration": 22,
    "start_time": "2025-02-18T20:13:27.047Z"
   },
   {
    "duration": 8,
    "start_time": "2025-02-18T20:13:27.071Z"
   },
   {
    "duration": 20,
    "start_time": "2025-02-18T20:13:27.081Z"
   },
   {
    "duration": 11,
    "start_time": "2025-02-18T20:13:27.104Z"
   },
   {
    "duration": 18,
    "start_time": "2025-02-18T20:16:09.917Z"
   }
  ],
  "kernelspec": {
   "display_name": "Python 3 (ipykernel)",
   "language": "python",
   "name": "python3"
  },
  "language_info": {
   "codemirror_mode": {
    "name": "ipython",
    "version": 3
   },
   "file_extension": ".py",
   "mimetype": "text/x-python",
   "name": "python",
   "nbconvert_exporter": "python",
   "pygments_lexer": "ipython3",
   "version": "3.9.5"
  },
  "toc": {
   "base_numbering": 1,
   "nav_menu": {},
   "number_sections": true,
   "sideBar": true,
   "skip_h1_title": true,
   "title_cell": "Table of Contents",
   "title_sidebar": "Contents",
   "toc_cell": false,
   "toc_position": {},
   "toc_section_display": true,
   "toc_window_display": true
  }
 },
 "nbformat": 4,
 "nbformat_minor": 5
}
